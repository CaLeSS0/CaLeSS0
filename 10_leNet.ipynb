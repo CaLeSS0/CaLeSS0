{
  "nbformat": 4,
  "nbformat_minor": 0,
  "metadata": {
    "colab": {
      "name": "10_leNet.ipynb",
      "provenance": [],
      "collapsed_sections": [],
      "include_colab_link": true
    },
    "kernelspec": {
      "name": "python3",
      "display_name": "Python 3"
    },
    "accelerator": "GPU",
    "widgets": {
      "application/vnd.jupyter.widget-state+json": {
        "d6427f6fe9de4209ab203c885d967af2": {
          "model_module": "@jupyter-widgets/controls",
          "model_name": "HBoxModel",
          "model_module_version": "1.5.0",
          "state": {
            "_view_name": "HBoxView",
            "_dom_classes": [],
            "_model_name": "HBoxModel",
            "_view_module": "@jupyter-widgets/controls",
            "_model_module_version": "1.5.0",
            "_view_count": null,
            "_view_module_version": "1.5.0",
            "box_style": "",
            "layout": "IPY_MODEL_0be70cfe4995483fa0ba4a895c519e8c",
            "_model_module": "@jupyter-widgets/controls",
            "children": [
              "IPY_MODEL_68639dae1adb4357b371e32ef3ef7af7",
              "IPY_MODEL_3c032838d2204c65b9ce8f8bd749dba8"
            ]
          }
        },
        "0be70cfe4995483fa0ba4a895c519e8c": {
          "model_module": "@jupyter-widgets/base",
          "model_name": "LayoutModel",
          "model_module_version": "1.2.0",
          "state": {
            "_view_name": "LayoutView",
            "grid_template_rows": null,
            "right": null,
            "justify_content": null,
            "_view_module": "@jupyter-widgets/base",
            "overflow": null,
            "_model_module_version": "1.2.0",
            "_view_count": null,
            "flex_flow": null,
            "width": null,
            "min_width": null,
            "border": null,
            "align_items": null,
            "bottom": null,
            "_model_module": "@jupyter-widgets/base",
            "top": null,
            "grid_column": null,
            "overflow_y": null,
            "overflow_x": null,
            "grid_auto_flow": null,
            "grid_area": null,
            "grid_template_columns": null,
            "flex": null,
            "_model_name": "LayoutModel",
            "justify_items": null,
            "grid_row": null,
            "max_height": null,
            "align_content": null,
            "visibility": null,
            "align_self": null,
            "height": null,
            "min_height": null,
            "padding": null,
            "grid_auto_rows": null,
            "grid_gap": null,
            "max_width": null,
            "order": null,
            "_view_module_version": "1.2.0",
            "grid_template_areas": null,
            "object_position": null,
            "object_fit": null,
            "grid_auto_columns": null,
            "margin": null,
            "display": null,
            "left": null
          }
        },
        "68639dae1adb4357b371e32ef3ef7af7": {
          "model_module": "@jupyter-widgets/controls",
          "model_name": "FloatProgressModel",
          "model_module_version": "1.5.0",
          "state": {
            "_view_name": "ProgressView",
            "style": "IPY_MODEL_1c11b7784e384ee3a9f5bd462a274bfb",
            "_dom_classes": [],
            "description": "",
            "_model_name": "FloatProgressModel",
            "bar_style": "success",
            "max": 26421880,
            "_view_module": "@jupyter-widgets/controls",
            "_model_module_version": "1.5.0",
            "value": 26421880,
            "_view_count": null,
            "_view_module_version": "1.5.0",
            "orientation": "horizontal",
            "min": 0,
            "description_tooltip": null,
            "_model_module": "@jupyter-widgets/controls",
            "layout": "IPY_MODEL_53dbe35051044b3daf1428bccad12575"
          }
        },
        "3c032838d2204c65b9ce8f8bd749dba8": {
          "model_module": "@jupyter-widgets/controls",
          "model_name": "HTMLModel",
          "model_module_version": "1.5.0",
          "state": {
            "_view_name": "HTMLView",
            "style": "IPY_MODEL_182da8f1aa584c5a9eb6c4b9b3627b62",
            "_dom_classes": [],
            "description": "",
            "_model_name": "HTMLModel",
            "placeholder": "​",
            "_view_module": "@jupyter-widgets/controls",
            "_model_module_version": "1.5.0",
            "value": " 26422272/? [03:31&lt;00:00, 124862.55it/s]",
            "_view_count": null,
            "_view_module_version": "1.5.0",
            "description_tooltip": null,
            "_model_module": "@jupyter-widgets/controls",
            "layout": "IPY_MODEL_b2531980cd45481fbcfc40e01a1b1c10"
          }
        },
        "1c11b7784e384ee3a9f5bd462a274bfb": {
          "model_module": "@jupyter-widgets/controls",
          "model_name": "ProgressStyleModel",
          "model_module_version": "1.5.0",
          "state": {
            "_view_name": "StyleView",
            "_model_name": "ProgressStyleModel",
            "description_width": "initial",
            "_view_module": "@jupyter-widgets/base",
            "_model_module_version": "1.5.0",
            "_view_count": null,
            "_view_module_version": "1.2.0",
            "bar_color": null,
            "_model_module": "@jupyter-widgets/controls"
          }
        },
        "53dbe35051044b3daf1428bccad12575": {
          "model_module": "@jupyter-widgets/base",
          "model_name": "LayoutModel",
          "model_module_version": "1.2.0",
          "state": {
            "_view_name": "LayoutView",
            "grid_template_rows": null,
            "right": null,
            "justify_content": null,
            "_view_module": "@jupyter-widgets/base",
            "overflow": null,
            "_model_module_version": "1.2.0",
            "_view_count": null,
            "flex_flow": null,
            "width": null,
            "min_width": null,
            "border": null,
            "align_items": null,
            "bottom": null,
            "_model_module": "@jupyter-widgets/base",
            "top": null,
            "grid_column": null,
            "overflow_y": null,
            "overflow_x": null,
            "grid_auto_flow": null,
            "grid_area": null,
            "grid_template_columns": null,
            "flex": null,
            "_model_name": "LayoutModel",
            "justify_items": null,
            "grid_row": null,
            "max_height": null,
            "align_content": null,
            "visibility": null,
            "align_self": null,
            "height": null,
            "min_height": null,
            "padding": null,
            "grid_auto_rows": null,
            "grid_gap": null,
            "max_width": null,
            "order": null,
            "_view_module_version": "1.2.0",
            "grid_template_areas": null,
            "object_position": null,
            "object_fit": null,
            "grid_auto_columns": null,
            "margin": null,
            "display": null,
            "left": null
          }
        },
        "182da8f1aa584c5a9eb6c4b9b3627b62": {
          "model_module": "@jupyter-widgets/controls",
          "model_name": "DescriptionStyleModel",
          "model_module_version": "1.5.0",
          "state": {
            "_view_name": "StyleView",
            "_model_name": "DescriptionStyleModel",
            "description_width": "",
            "_view_module": "@jupyter-widgets/base",
            "_model_module_version": "1.5.0",
            "_view_count": null,
            "_view_module_version": "1.2.0",
            "_model_module": "@jupyter-widgets/controls"
          }
        },
        "b2531980cd45481fbcfc40e01a1b1c10": {
          "model_module": "@jupyter-widgets/base",
          "model_name": "LayoutModel",
          "model_module_version": "1.2.0",
          "state": {
            "_view_name": "LayoutView",
            "grid_template_rows": null,
            "right": null,
            "justify_content": null,
            "_view_module": "@jupyter-widgets/base",
            "overflow": null,
            "_model_module_version": "1.2.0",
            "_view_count": null,
            "flex_flow": null,
            "width": null,
            "min_width": null,
            "border": null,
            "align_items": null,
            "bottom": null,
            "_model_module": "@jupyter-widgets/base",
            "top": null,
            "grid_column": null,
            "overflow_y": null,
            "overflow_x": null,
            "grid_auto_flow": null,
            "grid_area": null,
            "grid_template_columns": null,
            "flex": null,
            "_model_name": "LayoutModel",
            "justify_items": null,
            "grid_row": null,
            "max_height": null,
            "align_content": null,
            "visibility": null,
            "align_self": null,
            "height": null,
            "min_height": null,
            "padding": null,
            "grid_auto_rows": null,
            "grid_gap": null,
            "max_width": null,
            "order": null,
            "_view_module_version": "1.2.0",
            "grid_template_areas": null,
            "object_position": null,
            "object_fit": null,
            "grid_auto_columns": null,
            "margin": null,
            "display": null,
            "left": null
          }
        },
        "e8be4721d5df4e8eb8dd39a3a909ad20": {
          "model_module": "@jupyter-widgets/controls",
          "model_name": "HBoxModel",
          "model_module_version": "1.5.0",
          "state": {
            "_view_name": "HBoxView",
            "_dom_classes": [],
            "_model_name": "HBoxModel",
            "_view_module": "@jupyter-widgets/controls",
            "_model_module_version": "1.5.0",
            "_view_count": null,
            "_view_module_version": "1.5.0",
            "box_style": "",
            "layout": "IPY_MODEL_ac13335af9e7431bb6480c2d2c6ba902",
            "_model_module": "@jupyter-widgets/controls",
            "children": [
              "IPY_MODEL_5c089e3b7d5442b78d5d0173e13b2ffc",
              "IPY_MODEL_9faeaa934fc04f9c9985525a96660356"
            ]
          }
        },
        "ac13335af9e7431bb6480c2d2c6ba902": {
          "model_module": "@jupyter-widgets/base",
          "model_name": "LayoutModel",
          "model_module_version": "1.2.0",
          "state": {
            "_view_name": "LayoutView",
            "grid_template_rows": null,
            "right": null,
            "justify_content": null,
            "_view_module": "@jupyter-widgets/base",
            "overflow": null,
            "_model_module_version": "1.2.0",
            "_view_count": null,
            "flex_flow": null,
            "width": null,
            "min_width": null,
            "border": null,
            "align_items": null,
            "bottom": null,
            "_model_module": "@jupyter-widgets/base",
            "top": null,
            "grid_column": null,
            "overflow_y": null,
            "overflow_x": null,
            "grid_auto_flow": null,
            "grid_area": null,
            "grid_template_columns": null,
            "flex": null,
            "_model_name": "LayoutModel",
            "justify_items": null,
            "grid_row": null,
            "max_height": null,
            "align_content": null,
            "visibility": null,
            "align_self": null,
            "height": null,
            "min_height": null,
            "padding": null,
            "grid_auto_rows": null,
            "grid_gap": null,
            "max_width": null,
            "order": null,
            "_view_module_version": "1.2.0",
            "grid_template_areas": null,
            "object_position": null,
            "object_fit": null,
            "grid_auto_columns": null,
            "margin": null,
            "display": null,
            "left": null
          }
        },
        "5c089e3b7d5442b78d5d0173e13b2ffc": {
          "model_module": "@jupyter-widgets/controls",
          "model_name": "FloatProgressModel",
          "model_module_version": "1.5.0",
          "state": {
            "_view_name": "ProgressView",
            "style": "IPY_MODEL_7f307485febf45b8b288f66e6722776b",
            "_dom_classes": [],
            "description": "",
            "_model_name": "FloatProgressModel",
            "bar_style": "success",
            "max": 29515,
            "_view_module": "@jupyter-widgets/controls",
            "_model_module_version": "1.5.0",
            "value": 29515,
            "_view_count": null,
            "_view_module_version": "1.5.0",
            "orientation": "horizontal",
            "min": 0,
            "description_tooltip": null,
            "_model_module": "@jupyter-widgets/controls",
            "layout": "IPY_MODEL_cc45ee45ab6847d4b5adb4938b946c30"
          }
        },
        "9faeaa934fc04f9c9985525a96660356": {
          "model_module": "@jupyter-widgets/controls",
          "model_name": "HTMLModel",
          "model_module_version": "1.5.0",
          "state": {
            "_view_name": "HTMLView",
            "style": "IPY_MODEL_065d0ba1e83f4612b52c6b86dcceb4bd",
            "_dom_classes": [],
            "description": "",
            "_model_name": "HTMLModel",
            "placeholder": "​",
            "_view_module": "@jupyter-widgets/controls",
            "_model_module_version": "1.5.0",
            "value": " 29696/? [03:27&lt;00:00, 142.78it/s]",
            "_view_count": null,
            "_view_module_version": "1.5.0",
            "description_tooltip": null,
            "_model_module": "@jupyter-widgets/controls",
            "layout": "IPY_MODEL_6042525481e24c0bad9cee613ac05402"
          }
        },
        "7f307485febf45b8b288f66e6722776b": {
          "model_module": "@jupyter-widgets/controls",
          "model_name": "ProgressStyleModel",
          "model_module_version": "1.5.0",
          "state": {
            "_view_name": "StyleView",
            "_model_name": "ProgressStyleModel",
            "description_width": "initial",
            "_view_module": "@jupyter-widgets/base",
            "_model_module_version": "1.5.0",
            "_view_count": null,
            "_view_module_version": "1.2.0",
            "bar_color": null,
            "_model_module": "@jupyter-widgets/controls"
          }
        },
        "cc45ee45ab6847d4b5adb4938b946c30": {
          "model_module": "@jupyter-widgets/base",
          "model_name": "LayoutModel",
          "model_module_version": "1.2.0",
          "state": {
            "_view_name": "LayoutView",
            "grid_template_rows": null,
            "right": null,
            "justify_content": null,
            "_view_module": "@jupyter-widgets/base",
            "overflow": null,
            "_model_module_version": "1.2.0",
            "_view_count": null,
            "flex_flow": null,
            "width": null,
            "min_width": null,
            "border": null,
            "align_items": null,
            "bottom": null,
            "_model_module": "@jupyter-widgets/base",
            "top": null,
            "grid_column": null,
            "overflow_y": null,
            "overflow_x": null,
            "grid_auto_flow": null,
            "grid_area": null,
            "grid_template_columns": null,
            "flex": null,
            "_model_name": "LayoutModel",
            "justify_items": null,
            "grid_row": null,
            "max_height": null,
            "align_content": null,
            "visibility": null,
            "align_self": null,
            "height": null,
            "min_height": null,
            "padding": null,
            "grid_auto_rows": null,
            "grid_gap": null,
            "max_width": null,
            "order": null,
            "_view_module_version": "1.2.0",
            "grid_template_areas": null,
            "object_position": null,
            "object_fit": null,
            "grid_auto_columns": null,
            "margin": null,
            "display": null,
            "left": null
          }
        },
        "065d0ba1e83f4612b52c6b86dcceb4bd": {
          "model_module": "@jupyter-widgets/controls",
          "model_name": "DescriptionStyleModel",
          "model_module_version": "1.5.0",
          "state": {
            "_view_name": "StyleView",
            "_model_name": "DescriptionStyleModel",
            "description_width": "",
            "_view_module": "@jupyter-widgets/base",
            "_model_module_version": "1.5.0",
            "_view_count": null,
            "_view_module_version": "1.2.0",
            "_model_module": "@jupyter-widgets/controls"
          }
        },
        "6042525481e24c0bad9cee613ac05402": {
          "model_module": "@jupyter-widgets/base",
          "model_name": "LayoutModel",
          "model_module_version": "1.2.0",
          "state": {
            "_view_name": "LayoutView",
            "grid_template_rows": null,
            "right": null,
            "justify_content": null,
            "_view_module": "@jupyter-widgets/base",
            "overflow": null,
            "_model_module_version": "1.2.0",
            "_view_count": null,
            "flex_flow": null,
            "width": null,
            "min_width": null,
            "border": null,
            "align_items": null,
            "bottom": null,
            "_model_module": "@jupyter-widgets/base",
            "top": null,
            "grid_column": null,
            "overflow_y": null,
            "overflow_x": null,
            "grid_auto_flow": null,
            "grid_area": null,
            "grid_template_columns": null,
            "flex": null,
            "_model_name": "LayoutModel",
            "justify_items": null,
            "grid_row": null,
            "max_height": null,
            "align_content": null,
            "visibility": null,
            "align_self": null,
            "height": null,
            "min_height": null,
            "padding": null,
            "grid_auto_rows": null,
            "grid_gap": null,
            "max_width": null,
            "order": null,
            "_view_module_version": "1.2.0",
            "grid_template_areas": null,
            "object_position": null,
            "object_fit": null,
            "grid_auto_columns": null,
            "margin": null,
            "display": null,
            "left": null
          }
        },
        "874fd9eba2ad408ab47c7590e3ab15dc": {
          "model_module": "@jupyter-widgets/controls",
          "model_name": "HBoxModel",
          "model_module_version": "1.5.0",
          "state": {
            "_view_name": "HBoxView",
            "_dom_classes": [],
            "_model_name": "HBoxModel",
            "_view_module": "@jupyter-widgets/controls",
            "_model_module_version": "1.5.0",
            "_view_count": null,
            "_view_module_version": "1.5.0",
            "box_style": "",
            "layout": "IPY_MODEL_2595a8a1e2a340838620c82f15798e88",
            "_model_module": "@jupyter-widgets/controls",
            "children": [
              "IPY_MODEL_99ea97639ffb4ba787ef25221db4cd90",
              "IPY_MODEL_91bfbb7278444f5aa7cf0ec3679172fe"
            ]
          }
        },
        "2595a8a1e2a340838620c82f15798e88": {
          "model_module": "@jupyter-widgets/base",
          "model_name": "LayoutModel",
          "model_module_version": "1.2.0",
          "state": {
            "_view_name": "LayoutView",
            "grid_template_rows": null,
            "right": null,
            "justify_content": null,
            "_view_module": "@jupyter-widgets/base",
            "overflow": null,
            "_model_module_version": "1.2.0",
            "_view_count": null,
            "flex_flow": null,
            "width": null,
            "min_width": null,
            "border": null,
            "align_items": null,
            "bottom": null,
            "_model_module": "@jupyter-widgets/base",
            "top": null,
            "grid_column": null,
            "overflow_y": null,
            "overflow_x": null,
            "grid_auto_flow": null,
            "grid_area": null,
            "grid_template_columns": null,
            "flex": null,
            "_model_name": "LayoutModel",
            "justify_items": null,
            "grid_row": null,
            "max_height": null,
            "align_content": null,
            "visibility": null,
            "align_self": null,
            "height": null,
            "min_height": null,
            "padding": null,
            "grid_auto_rows": null,
            "grid_gap": null,
            "max_width": null,
            "order": null,
            "_view_module_version": "1.2.0",
            "grid_template_areas": null,
            "object_position": null,
            "object_fit": null,
            "grid_auto_columns": null,
            "margin": null,
            "display": null,
            "left": null
          }
        },
        "99ea97639ffb4ba787ef25221db4cd90": {
          "model_module": "@jupyter-widgets/controls",
          "model_name": "FloatProgressModel",
          "model_module_version": "1.5.0",
          "state": {
            "_view_name": "ProgressView",
            "style": "IPY_MODEL_637d9038c2a24cd093b5f352f09a0000",
            "_dom_classes": [],
            "description": "",
            "_model_name": "FloatProgressModel",
            "bar_style": "success",
            "max": 4422102,
            "_view_module": "@jupyter-widgets/controls",
            "_model_module_version": "1.5.0",
            "value": 4422102,
            "_view_count": null,
            "_view_module_version": "1.5.0",
            "orientation": "horizontal",
            "min": 0,
            "description_tooltip": null,
            "_model_module": "@jupyter-widgets/controls",
            "layout": "IPY_MODEL_1961f54ecd434e0bb3582ffb44a49139"
          }
        },
        "91bfbb7278444f5aa7cf0ec3679172fe": {
          "model_module": "@jupyter-widgets/controls",
          "model_name": "HTMLModel",
          "model_module_version": "1.5.0",
          "state": {
            "_view_name": "HTMLView",
            "style": "IPY_MODEL_c6585a916ba44d21ac2eb6e5ac5aeed7",
            "_dom_classes": [],
            "description": "",
            "_model_name": "HTMLModel",
            "placeholder": "​",
            "_view_module": "@jupyter-widgets/controls",
            "_model_module_version": "1.5.0",
            "value": " 4422656/? [00:04&lt;00:00, 920550.52it/s]",
            "_view_count": null,
            "_view_module_version": "1.5.0",
            "description_tooltip": null,
            "_model_module": "@jupyter-widgets/controls",
            "layout": "IPY_MODEL_ef34d90623c44997b9e1717b21346363"
          }
        },
        "637d9038c2a24cd093b5f352f09a0000": {
          "model_module": "@jupyter-widgets/controls",
          "model_name": "ProgressStyleModel",
          "model_module_version": "1.5.0",
          "state": {
            "_view_name": "StyleView",
            "_model_name": "ProgressStyleModel",
            "description_width": "initial",
            "_view_module": "@jupyter-widgets/base",
            "_model_module_version": "1.5.0",
            "_view_count": null,
            "_view_module_version": "1.2.0",
            "bar_color": null,
            "_model_module": "@jupyter-widgets/controls"
          }
        },
        "1961f54ecd434e0bb3582ffb44a49139": {
          "model_module": "@jupyter-widgets/base",
          "model_name": "LayoutModel",
          "model_module_version": "1.2.0",
          "state": {
            "_view_name": "LayoutView",
            "grid_template_rows": null,
            "right": null,
            "justify_content": null,
            "_view_module": "@jupyter-widgets/base",
            "overflow": null,
            "_model_module_version": "1.2.0",
            "_view_count": null,
            "flex_flow": null,
            "width": null,
            "min_width": null,
            "border": null,
            "align_items": null,
            "bottom": null,
            "_model_module": "@jupyter-widgets/base",
            "top": null,
            "grid_column": null,
            "overflow_y": null,
            "overflow_x": null,
            "grid_auto_flow": null,
            "grid_area": null,
            "grid_template_columns": null,
            "flex": null,
            "_model_name": "LayoutModel",
            "justify_items": null,
            "grid_row": null,
            "max_height": null,
            "align_content": null,
            "visibility": null,
            "align_self": null,
            "height": null,
            "min_height": null,
            "padding": null,
            "grid_auto_rows": null,
            "grid_gap": null,
            "max_width": null,
            "order": null,
            "_view_module_version": "1.2.0",
            "grid_template_areas": null,
            "object_position": null,
            "object_fit": null,
            "grid_auto_columns": null,
            "margin": null,
            "display": null,
            "left": null
          }
        },
        "c6585a916ba44d21ac2eb6e5ac5aeed7": {
          "model_module": "@jupyter-widgets/controls",
          "model_name": "DescriptionStyleModel",
          "model_module_version": "1.5.0",
          "state": {
            "_view_name": "StyleView",
            "_model_name": "DescriptionStyleModel",
            "description_width": "",
            "_view_module": "@jupyter-widgets/base",
            "_model_module_version": "1.5.0",
            "_view_count": null,
            "_view_module_version": "1.2.0",
            "_model_module": "@jupyter-widgets/controls"
          }
        },
        "ef34d90623c44997b9e1717b21346363": {
          "model_module": "@jupyter-widgets/base",
          "model_name": "LayoutModel",
          "model_module_version": "1.2.0",
          "state": {
            "_view_name": "LayoutView",
            "grid_template_rows": null,
            "right": null,
            "justify_content": null,
            "_view_module": "@jupyter-widgets/base",
            "overflow": null,
            "_model_module_version": "1.2.0",
            "_view_count": null,
            "flex_flow": null,
            "width": null,
            "min_width": null,
            "border": null,
            "align_items": null,
            "bottom": null,
            "_model_module": "@jupyter-widgets/base",
            "top": null,
            "grid_column": null,
            "overflow_y": null,
            "overflow_x": null,
            "grid_auto_flow": null,
            "grid_area": null,
            "grid_template_columns": null,
            "flex": null,
            "_model_name": "LayoutModel",
            "justify_items": null,
            "grid_row": null,
            "max_height": null,
            "align_content": null,
            "visibility": null,
            "align_self": null,
            "height": null,
            "min_height": null,
            "padding": null,
            "grid_auto_rows": null,
            "grid_gap": null,
            "max_width": null,
            "order": null,
            "_view_module_version": "1.2.0",
            "grid_template_areas": null,
            "object_position": null,
            "object_fit": null,
            "grid_auto_columns": null,
            "margin": null,
            "display": null,
            "left": null
          }
        },
        "98f23e2981e040b888a6c0dde0cce9c8": {
          "model_module": "@jupyter-widgets/controls",
          "model_name": "HBoxModel",
          "model_module_version": "1.5.0",
          "state": {
            "_view_name": "HBoxView",
            "_dom_classes": [],
            "_model_name": "HBoxModel",
            "_view_module": "@jupyter-widgets/controls",
            "_model_module_version": "1.5.0",
            "_view_count": null,
            "_view_module_version": "1.5.0",
            "box_style": "",
            "layout": "IPY_MODEL_cdbf5166ff6c4be0927fcc7ffbed5073",
            "_model_module": "@jupyter-widgets/controls",
            "children": [
              "IPY_MODEL_0144ae9f00f0437e852534fe12712ecc",
              "IPY_MODEL_55f8382d300844a49e81c51a48a27ca3"
            ]
          }
        },
        "cdbf5166ff6c4be0927fcc7ffbed5073": {
          "model_module": "@jupyter-widgets/base",
          "model_name": "LayoutModel",
          "model_module_version": "1.2.0",
          "state": {
            "_view_name": "LayoutView",
            "grid_template_rows": null,
            "right": null,
            "justify_content": null,
            "_view_module": "@jupyter-widgets/base",
            "overflow": null,
            "_model_module_version": "1.2.0",
            "_view_count": null,
            "flex_flow": null,
            "width": null,
            "min_width": null,
            "border": null,
            "align_items": null,
            "bottom": null,
            "_model_module": "@jupyter-widgets/base",
            "top": null,
            "grid_column": null,
            "overflow_y": null,
            "overflow_x": null,
            "grid_auto_flow": null,
            "grid_area": null,
            "grid_template_columns": null,
            "flex": null,
            "_model_name": "LayoutModel",
            "justify_items": null,
            "grid_row": null,
            "max_height": null,
            "align_content": null,
            "visibility": null,
            "align_self": null,
            "height": null,
            "min_height": null,
            "padding": null,
            "grid_auto_rows": null,
            "grid_gap": null,
            "max_width": null,
            "order": null,
            "_view_module_version": "1.2.0",
            "grid_template_areas": null,
            "object_position": null,
            "object_fit": null,
            "grid_auto_columns": null,
            "margin": null,
            "display": null,
            "left": null
          }
        },
        "0144ae9f00f0437e852534fe12712ecc": {
          "model_module": "@jupyter-widgets/controls",
          "model_name": "FloatProgressModel",
          "model_module_version": "1.5.0",
          "state": {
            "_view_name": "ProgressView",
            "style": "IPY_MODEL_e2d6f98759734c07ac935df192f67f95",
            "_dom_classes": [],
            "description": "",
            "_model_name": "FloatProgressModel",
            "bar_style": "success",
            "max": 5148,
            "_view_module": "@jupyter-widgets/controls",
            "_model_module_version": "1.5.0",
            "value": 5148,
            "_view_count": null,
            "_view_module_version": "1.5.0",
            "orientation": "horizontal",
            "min": 0,
            "description_tooltip": null,
            "_model_module": "@jupyter-widgets/controls",
            "layout": "IPY_MODEL_7ed03356791e4c6386c19b188cf29e54"
          }
        },
        "55f8382d300844a49e81c51a48a27ca3": {
          "model_module": "@jupyter-widgets/controls",
          "model_name": "HTMLModel",
          "model_module_version": "1.5.0",
          "state": {
            "_view_name": "HTMLView",
            "style": "IPY_MODEL_b52182cb187b415ca76499ff8fc74721",
            "_dom_classes": [],
            "description": "",
            "_model_name": "HTMLModel",
            "placeholder": "​",
            "_view_module": "@jupyter-widgets/controls",
            "_model_module_version": "1.5.0",
            "value": " 6144/? [00:02&lt;00:00, 2121.11it/s]",
            "_view_count": null,
            "_view_module_version": "1.5.0",
            "description_tooltip": null,
            "_model_module": "@jupyter-widgets/controls",
            "layout": "IPY_MODEL_41b63ebeefa14ee9929ef371d05af796"
          }
        },
        "e2d6f98759734c07ac935df192f67f95": {
          "model_module": "@jupyter-widgets/controls",
          "model_name": "ProgressStyleModel",
          "model_module_version": "1.5.0",
          "state": {
            "_view_name": "StyleView",
            "_model_name": "ProgressStyleModel",
            "description_width": "initial",
            "_view_module": "@jupyter-widgets/base",
            "_model_module_version": "1.5.0",
            "_view_count": null,
            "_view_module_version": "1.2.0",
            "bar_color": null,
            "_model_module": "@jupyter-widgets/controls"
          }
        },
        "7ed03356791e4c6386c19b188cf29e54": {
          "model_module": "@jupyter-widgets/base",
          "model_name": "LayoutModel",
          "model_module_version": "1.2.0",
          "state": {
            "_view_name": "LayoutView",
            "grid_template_rows": null,
            "right": null,
            "justify_content": null,
            "_view_module": "@jupyter-widgets/base",
            "overflow": null,
            "_model_module_version": "1.2.0",
            "_view_count": null,
            "flex_flow": null,
            "width": null,
            "min_width": null,
            "border": null,
            "align_items": null,
            "bottom": null,
            "_model_module": "@jupyter-widgets/base",
            "top": null,
            "grid_column": null,
            "overflow_y": null,
            "overflow_x": null,
            "grid_auto_flow": null,
            "grid_area": null,
            "grid_template_columns": null,
            "flex": null,
            "_model_name": "LayoutModel",
            "justify_items": null,
            "grid_row": null,
            "max_height": null,
            "align_content": null,
            "visibility": null,
            "align_self": null,
            "height": null,
            "min_height": null,
            "padding": null,
            "grid_auto_rows": null,
            "grid_gap": null,
            "max_width": null,
            "order": null,
            "_view_module_version": "1.2.0",
            "grid_template_areas": null,
            "object_position": null,
            "object_fit": null,
            "grid_auto_columns": null,
            "margin": null,
            "display": null,
            "left": null
          }
        },
        "b52182cb187b415ca76499ff8fc74721": {
          "model_module": "@jupyter-widgets/controls",
          "model_name": "DescriptionStyleModel",
          "model_module_version": "1.5.0",
          "state": {
            "_view_name": "StyleView",
            "_model_name": "DescriptionStyleModel",
            "description_width": "",
            "_view_module": "@jupyter-widgets/base",
            "_model_module_version": "1.5.0",
            "_view_count": null,
            "_view_module_version": "1.2.0",
            "_model_module": "@jupyter-widgets/controls"
          }
        },
        "41b63ebeefa14ee9929ef371d05af796": {
          "model_module": "@jupyter-widgets/base",
          "model_name": "LayoutModel",
          "model_module_version": "1.2.0",
          "state": {
            "_view_name": "LayoutView",
            "grid_template_rows": null,
            "right": null,
            "justify_content": null,
            "_view_module": "@jupyter-widgets/base",
            "overflow": null,
            "_model_module_version": "1.2.0",
            "_view_count": null,
            "flex_flow": null,
            "width": null,
            "min_width": null,
            "border": null,
            "align_items": null,
            "bottom": null,
            "_model_module": "@jupyter-widgets/base",
            "top": null,
            "grid_column": null,
            "overflow_y": null,
            "overflow_x": null,
            "grid_auto_flow": null,
            "grid_area": null,
            "grid_template_columns": null,
            "flex": null,
            "_model_name": "LayoutModel",
            "justify_items": null,
            "grid_row": null,
            "max_height": null,
            "align_content": null,
            "visibility": null,
            "align_self": null,
            "height": null,
            "min_height": null,
            "padding": null,
            "grid_auto_rows": null,
            "grid_gap": null,
            "max_width": null,
            "order": null,
            "_view_module_version": "1.2.0",
            "grid_template_areas": null,
            "object_position": null,
            "object_fit": null,
            "grid_auto_columns": null,
            "margin": null,
            "display": null,
            "left": null
          }
        }
      }
    }
  },
  "cells": [
    {
      "cell_type": "markdown",
      "metadata": {
        "id": "view-in-github",
        "colab_type": "text"
      },
      "source": [
        "<a href=\"https://colab.research.google.com/github/CaLeSS0/CaLeSS0/blob/master/10_leNet.ipynb\" target=\"_parent\"><img src=\"https://colab.research.google.com/assets/colab-badge.svg\" alt=\"Open In Colab\"/></a>"
      ]
    },
    {
      "cell_type": "markdown",
      "metadata": {
        "id": "gZi-2X1VVqiY"
      },
      "source": [
        "![datahacker.png](data:image/png;base64,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)\n",
        "# LeNet"
      ]
    },
    {
      "cell_type": "markdown",
      "metadata": {
        "id": "1MCZrmxVZpT8"
      },
      "source": [
        "LeNet-5 Is a foundamental Convolutional Neural Network. We will see a bit of theory and also how to implement it using PyTorch.\n",
        "\n",
        "The main goal of LeNet-5 was to recognize handwritten digits. \n",
        "\n",
        "It was invented by Yann LeCun in 1998 and was the first Convolutional Neural Network."
      ]
    },
    {
      "cell_type": "markdown",
      "metadata": {
        "id": "Cql12kWkZnU9"
      },
      "source": [
        "It takes as an input a 32x32x1 image, that is grayscaled and outputs a predictions.\n",
        "\n",
        "Let's take a look at the architecture of this neural network."
      ]
    },
    {
      "cell_type": "markdown",
      "metadata": {
        "id": "2mukm6tsZ8Gl"
      },
      "source": [
        "![LeNet5-1024x188.png](data:image/png;base64,iVBORw0KGgoAAAANSUhEUgAABAAAAAC8CAYAAADmWtyeAABb2UlEQVR42u2dd5xU5fWHn9ml7NJ7F8FeABsWIhaixlgDGmNJYu+xJfYYNYnJzxJ7ibH33lCjxgaK2OkCiiJSpXcWlm3z++Occe8OM7Ozu9N25/t8PsMyd2bu3Hnve997vuec97wghBBCCCGEEEIIIYQQQgghhBBCCCGEEEIIIYQQQgghhBBCCCGEEEIIIYQQQgghhBBCCCGEEEIIIYQQQojUEFITCCGEEEIIIWLwe2DHDH3XVOBJNbkQcgAIIYQQQgghMs9LwDoX5+lkIFAMHKMmFyK9NFMTCCGEEEIIIeLwCjAyifcVA5sFnq8H5if5HUcBx6uphZADQAghhBBCCJG79MEi97sA2wAbfHtz4FPgdeDLwHYhhBwAQgghhBBCiEZEMXA2cDRQArwN3AosxqYZ/xzoBlwBLAXuAsap2YQQQgghhBBCiNzjJWB4HPH/f8AY4HdA5wT72BG4BfgMGBznPUcBL6i5hRBCCCGEEEKI3HIAXAV8CAxIcj9FWCZAPCeAHABCZIgCNYEQQgghhBAiSXYH9gfOI/nVAUqB24F3gb9iGQRCiCygGgBCCCGEEEKIZGjlAn4MMK2Ony0FHgH2BvYD/pfH7VgE9CMzwdgwMAdblUEIOQCEEEIIIYQQSbEjVvX/KaCqHp+fBdwLnJznDoBtgKeB5fVsx7rQG/gtthKDEHIACCGEEEIIIZKiJ/AtMLcB+5gAnA70B37IYw22EnOErEvj9zQHnvO/QsgBIIQQQgghhEia37qgrGjAPuYBLYAeeewAwNtwGbA2zQ6ACnVbEURFAIUQQgghhBDJ0ArYoGYQQg4AIYQQQgghhBBC5DCaAiCEEEIIIYRIhjeBX2AF/CrruY+2/llVpU+efkC7wPMfSO/UASEHgBBCCCGEECLPmYwVrmsPrKjnPgZj0wimqTkT0goYChwN7AqUYEv6tQYWAZOAx4GZaiohB4AQQgghhBAi1cwEQsCh2FKA4Tp+vhA4HHgDFadLxF7AOUAR8C6WeTEWWzKwszsGegB3AuOAm0jvagJCDgAhhBBCCCFEnrEEeBg420X8yjp8NgQcCGwNXKemjMsQF/bPAA8Bq6NeX4k5YpoBL7r4fwD4D/Chmk/UhooACiGEEEIIIZLlZWAV8C9sKkCydAQuAp50R4KILf7/DFwP3BND/AepcEfAicAHwOVAGzWhkANACCGEEEIIkSqWYOnpPYBbknAChICDsAj1d1hkW2zKFsDtWMr/q8DGJD+3jupMgWvUjEIOACGEEEIIIUQqmedOgLbAg8BwYJuo97QFdgNucEfBm8AV1H/1gKbOicB/gfvq0UYVwJVYgcX91ZQiEaoBIIQQQgghhKiPE+AU4Fjgj0AHYCrVhQG7YAXrfgAuBkZJ/MdlC2BP4HySj/xHMwd4DbgEmxIghBwAQgghhBBCiJSxHluK7kWscn2XqNc/waYMbFBTJWQHYA0wvwH7CHt7nwNsB3yjZhVyAAghhBBCCCFSSSWwFpu7LurHsdi8/9IG7mcisBjoKgeAiIdqAAghhBBCCCFE9mgBlKdgP5VomoWoBWUACCGEEEIIIVLBdljxvwjfYNkBQgg5AIQQQgghhBCNnLbYMn/HYXPZlwa2rwYmYCsFzFBTxWUh0A3Lzq5qwH7aUdMBI0TOOQAuBoboNKScu1H1TyGEEEIIkV4OAM4DSoDngOXAF/5aZ2APYDPgTmAycB3KCIjFc8DfgUewwor1ZRcgBHytJhW56gDYE5gFfKpTkTLOB/qqGdJOK+BPwK5qipgsAa7xv0IIIYRomuL/TuBm4Bk2LWC3HlsqsAB4BbgJWzHgLmxJQFHNN95euwJj67mPEFZMcAqwTE0qctUBAPC5DwoiNRypJki/+C8obHZt7633umC73Y8oKmzeQi0CEIY1y+cz6cMnWb968WzgBjWKECLK5vgtMLyRHv8tDTDMhWiK4v8yLPo/hsSF56qwNepP8jHgIuBLlAkQZCWWBXAKlkFRVo99DPTzcryaU+S6A0CIRif++2y79wVDR1xa1L5zb8zhKtYsn883496guENfyjduoLx0jRpFCBG0N05p1bbzjQP3PaFjp+5bNoqDrigv5auxz7No9kQIh5/VaRQCsEJ/dwD/wqachpP8XCnwBFYv4BrgUjVlDd7C6igMB16kbrUA2gNXYlnVE9SUQg4AIVIo/jfbbugFew+/pKh95z5qkYD4//i129lYWUiP7Q+mZMVcOQCEENHi/6Y9DvlDh20GH0Fhs+aNQvxPGPUYZeWVtO7Yl5IVc3QmhTDOAh4AnqyD+I9QBlwOPIRFq99Xc/7ESqxY4v95u76UpBOgHfBvoDVwOg0rIijygAI1gRDJi/8+2+59wdDhl0r8xxL/FYX03OFQmhe3V6MIIYLi/+TGKv5/mP4pvQaNoGXbbjqTQhjbAwOAF6j/evPzgDeAP6g5N+F14CrgDOBerKhfQQLhfyzwpv//dFR7SSR5YxZCJCP+txt6wdDhlxS169xbLRJL/O94KM2L2rJxnerOCCGqxX9x287/aqziv/fA4bTquBmhkOIlQjgDgcUNFJpVwDgXudthBfCEEQZeAz7BMgGewQqmPwfMDLxvM6z+QmssG+NFiX8hB4AQqRT/2+59wT7DL5X4ryH+F2wi/oUQIkr837znIee132b3wyksbBzif+Kox/hh+if0HjiCVh03szIv4bDOqBDGCVj6fkUD9/OlC9YOatKYToClwNlYBsAuwInUzASY5w6C8d6OGqSEHABCpFT8j5D431T83yrxL4RIIP47NUrxP6uG+A/JrhaiJoWkZo55WBdXrVRimRLjgUditF+lmkjIASBEysX/zy7cZ8RlLSX+Y4v/XjseRjOJfyFETbvipOI2nW7e89Dz2287+HAKGpP4n/YJvXcaQasOEfEvhBBZJ0zDMy6EkANAiNrF/94X7jPiUon/oPhfkYz4l1NfiDwX/7fuedj57ST+hWiSzAP64JNjGrCfjoAiCEJkAVW1EWJT8X9NdeRf1f5riP9XXfwPSBT5D/lDCJFHFNYU/0c0HfEfhrCcmkJEeAqrPN/QIOJgYAPwtZpUiMyiDAAhqikOhQqu6d5vl4v2+OW5LVu2akfZhrVu9uW38bd+zXI+e+NuSisL6T3gcJq1bKPeIoQIiv+Ti9t0DIj/3Dcvko78hyAkp6YQEaYCG4HdgM/quY/mwHHAJGC1mjQpBgCdA8+nACvVLEIOACEaxjkFhS0u2rBuZcuxI2/2TWGk/8OUlqykRfu+bLbzryT+hRCxxP9tex52QdsmJ/6FENGsBh4HzsEK1NVnbvruWAbA0WrOhLQDDgdOBrYA5mMFGNtjqZaTgTsxR4rSlIQcAELUg159dhressf2v6A6hV3jaWV5KbO/fIoOvQZJ/Ashmpj4P4pWHfugaUtC1Ik3sWXpjgaer6Ox1A34M/AuME1NGZdfAhcDPwI3Aitc8EccADsDmwM3Y3UZ/ogyAoQcAELUnZZtutK22zZqiKCxXFZCcwn/dBMpnFDXpZWKgF39bz4QBiaglFGJ/3qPZ6VMHC3xnwFa+dg0G4taivTePzIdrVgN3AXc7s9fSPL+1R14yD9/ldo0ofi/DbgOeDZG264GPvT/vwrcAryEZQOM1CUh5ACoJhsFD1UOXQiRDEcApwEXAT8k+ZniUEGzS9t32ezKNh26NWkHQDgcZtWS2ZSsXrIRGAZ8qi4j8d8w8T9C4j+99AVeBP7pQjHT4i3dJ7YqTfstxhwnxVHbN2BrwZcGfuPWwC7AocArwGJgYuA96eZN/3sRcJif5wneNuGo89EZyxY4B4v6nwOsydBxbu5tFc1sYGbgeStvz57ef6cAs/yenElb/hAs8n8y8GUSfW01cDpwJHAhMAbLFhAi7x0APTHvWKZLuj8F3KduJvIL+b3qOUYNcQMkKSOxoLDZpb222v3KoSMuL+rYrV+TFv8/zvySsa/eQun6NVSWl6q3ZN9uOKnxif8NTBz9hIn/QT7nX+K/KRIChocKCi4MEUpp4CdMmHBVFcA7wD/SdPy/w6K4LaOE38fAMS7uWwOXAacAHVz03wZ0Ad5wcZ2pVPA3/dhuAJ4GFrjtOzvwnv5+TKVYKvsbGRT/nYBHMMdxZWD7Rm/DiANgF/8N+3i7rwJ6AHOBa4AnM3S8OwA3+bEkI/6DvA78CpsScJoMMSEHAOwFHJ+F7/1YXUzkp/0lwzqNFBcUNru055aD80b8f/za7XTsvy9lZe+zbtks9QCJ//qJ/+ku/jvWseCflgFsVOK/uG3nB/f45bmdOnbvn8KxqIq5X3/MV2OfoaKsdE4af0M3bErXo8DDge2zgSX+G88ELscyAk4EPsECXIOA/bPQ7qtd4A8AdgJ+H2UEzALOxyLqazJ8bC0wB/ty4AJsrnzEAfCV/7/I23QoFix8zX9Td2/Pigz23zOwwOEz1D3LJAxcgmXeDMeyQkTmKaRmIbFKOQCyQ0vgt1n67ipdB6LpiLEqCIczWSk75ANpDVs+aoCtiPOZSh94C+N4IyKvk+DzBUkM4tH7j7ffZkl+f7Li/4p9jsof8d9py/3p0GsQi78drQtR4r9OlJdtYNIHJv57DRxed/Hvo0KKlgEsxCqfd/TnK1zEVQJdsSjkF1j0MdjuuwHfuCjp5UIvelwcF/W5oADaGVtrvcK/vzUW2fwmhp2yJTXTpWcB37FpSvc2WGQ3wnfA91kW/yOK23a5f5+jr+i0xYBhhAoKUzMWVVUx9+uPmPvtl7TvtTPLZ3+Wid8zF/goxvZeWJbAYuAPWPX3yHmaRXbnf0/1x1M5OBSU+bU2I8ZrO2OR88ewKSuRNLNv45yDdLEdsCMWwa+vfliJZSuc631BnsvM0h3Lxtks0IcuJQenZOSDA2AP4BdZ+N6lVM+PEqLREwoVZFL8t8GWvjmJ6gJ3K7DKwTOw6MfWmEd/beBzv8Q8+VdjlXOvB7YNOAMi4vtKYq9fvBM2j/E6bP5dL3cE/IDNyVsWeG8fv1H3Cgj6x7HowYoog/pGLLJT6Ub4o8B/qVsxu+KCwuaXuPgvzifx33GzXQlXVeoilPivn/ifZuK/dcesLvXXEbgDm9870wXrlm4nXOTC/DXgVOCJwOf2w1Krj8AiwA/72DcdW0qtI7AO+BPwQIzvbQfcCryMRTP3xaYaLfHv+QdQ4sezM/CgOxjCvu0bbH7xF4Fte/r7tg1sm+zvm5wF0REU/537D9g/5eL/87fvp/NWB1CxsSRTDoB4bI3NT3/C+4BoGEVuZ4T8/p3NOWYD3W5Z1sD9THJbaZBfjyJz4v9Rt0Mj7A20xTJklufSwRY08ZNR4DfVtln47h8wb6wQTUSUeQZAZujrxuQbwF/ccB6AVRxuCzTHUtz2DXymPZb+1hNLl/wrMALzhv/Fr8d+wD3EjgJE9rE3cD9WOOg+N7IOw+bkRdRDT2xe4T5Y5O2vfs3fgs0XjLyvvxvsu2NpmtcBi7A5npeS/FyJiPi/Mh/FfyhUoAtQ4r8xi38w5980H7cOdiPxn8AJWNRvGebMPC4wLrRww3GDC5PbsLXAf4cVfrvIhfy/3ElAgnHtn1iU/jDMuToLc3L29fd083EJHzeHYUXF1rljYbC/1htzkq7x14f5+wvcKTAwG+K/VbuuJv533J+CgtT0z6D477LVgXTsvVPKHAtJCv1D/TEMy9oAC2h1dqFYpuGpzmNZC380977T1dt0g9+bs8nRbvNsbOB+JmMrb7TTKc+Y1tw7SvxXUO0cPRq416/bnLoYmjK9sGhgxm1Y4H1goa4L0VTIcAbAbOBYanpMDwMOwCLvI7Ho/2DgbR9st8Uyfq5xoX+UC+6HsXS6KjeuS6m9QNKnwFlu5D7nBsOv3ECe6se2jxvvL/tnPsMqNx/tjoPvsOlHu/j3RjKCvsCiN79xJ0JtabOtCgqbX9xry8FXDh1xmcS/kPivVfyvZ9IHT+aS+MfHkhsDz5tj6aERJmIZAIe4Q2AqVoRsex+DZrr4/ozq5b9GYlW/t8Ki+Il4DcuMWh9wCtyHZRZ87d/b18e0YP2ipf7Zw7CiZMPdkD0GS6mOsAqbc3wgNtc7k+L/vqEjLjfxX5hq8f8AXbY6kA69B1kfypwT/Dd+L8HvWX/Cls/Dxb/mQ9WNzt5+GwL9+o+B19/LAQeAaJzi/zgX+O3czvwRKzC5v9uhXQLXcs5kAjR1B8BgbE5NNGXUTFFbSHUxkLrSEvgZlrIcYRnmxROiCYmzjNYAWO/XaWcset7cjdP+WFHP57Glboa7KF/pBtNGN6SL3MAtpjqaVujXfTJz6/5DdbGiKjfAf4dlHzRz4/dz4N3AZza6M+DIwHcPx+YQfhh43zqsWu++1O6hb1VQ2PzinlsOvnLoUZcVd+zWvwn3L4l/if8UiP+N65n04VPMmvYpvQb+KlfEf1D074lVJj+BmtHyCh9njseWgZvqY9/mWFGvSncC9MSilmswZ2hrkss2XBYQ//i4tBhLW8WN1ELfRpQDIJgW3c3H0aVR71tCZiPSBS7+/zN0xOVd+g9Il/g/oFr8Qybr2z6GZVREmBclZneKcsCIxKzBMmjmBnTAcr+WwBz1nVy8CVEf8V/mY/j1mFP1WeAtbMrqHu4EKMBWefiSLNdnaMoOgJZusBMw4ud7oz9Nzej8MixaVx96AaOw6GOEWSj9XzQ1QqEkDemULAPYAbgWq8q7nY9VzQOvl2Bp+pE0/DF+A5/p13jIBfppWGp+GVaZeCqWsp8KVlGz/kDQyN8NS/fFnROxonNF2JzbifHEfygUurhTz62v3PWAU4pbFrVh/Zql1rLhplfXZ/nC7/jsjXsk/iX+UyD+P6HXwCNp3bFvLon/zsDdLu6/9m3RNUDGYdOTfoM5OY/HMoYiBfy+An4N/A9zOHby7Y/noeE9olW7bvcOHXFp5sR/Zsfe+VgmWjRz/Qbb3e9zKvKW5PCAzY2Pnv63wdt0C5JfhjddzMSyFyOFiOtLF6w2iAqRp48WPhb/GwsAL8AySt6mOngUxrK0xrqT4FfuBBiKZQK8ms1z1JQdALtTXfyv3IXCLdRMuUsFw6ieQxc54aNQ+r/IX08BKQiTnI8tb/R3F/JghfuODLznGxfXZ7oQH4yl/5di3tgWLtLP9bFuCjYlYGmKxspCN0SrYhgan0cZq7HeV0riCM6IgmZFV1aUlxd/+c6D1aNLE7T3wlWVrFu1kB47HpFQ/GtxSYn/ROJ/crrEf2qWARyATR06keo1xQ+iZrHglT4mHAr8HFsT/HUsa6iVj3+PYfVEjsTSwB8huYBDYZRg7O2Ga2XUJRZ9sjfDspmi3xc9GX5zLPCS7mqdJv7bd7t36PBLu/YfMCxz4h9ywaH0DpZtcbif+0UxznOVHANJs8xF27XYNJc72XTFiwIys5Tby1g9j3v9mq8vu2AOwik6vWkh4sw9FAvkPEV11D9eHzsTK/x8A5ZFda/3qdfkAEj9DWIPLF23HJv3c2kDL6hYtHTRURx1opX+L5oe4XAmpwB0d8PmOf9bwKbzpn7AIiT7Yp7XeX4DrcTmxO6GFRJ8z8e6VWw6/SceO2JzbTdiEf2T3HGw3I2rb33wH0T1MkwtsEygRf5dFZhHf29sHm8kI6AIK/D0I4lXAejcbat9i/vt8TtqrkbY9Chdt4zvx95H225bJ4z8y6KV+E8k/r9PV+Q/dcsA4uNIgY8XO0S9VkF15P80LLjwYtTrHXx8edyfr/V91ZZ+/wt/jHHb5UT/XMQAne9j09mYo3S92zan+Pe85e+b48dwJpbKWurOidN8PHs/3eK/dftu9+6dDfEfuQ9mlx+xDJATsWUAb6G6aNz27jh6mBxcdiyHeRuLyJ6JOeAijvlWfs2UYvUt0s0MtzH29mOqD4VYcc8viJ2hKBrO9ljtlFVuYwaj/vFYidV+moTVYjkCmz4gB0CKiRT/S6f4j3iBDonapvR/0STJcBHAWVgBvQuxtNgu2HJY0dbXC1i67JbYfKulgcF2EfA330eEl4FnqDmfMhZ/xwq4PIel5B2IRVu+8df/jVXy/ivVS3ZthxVquseFP1iRrf18wH/Bt+0MnIF5+uckOojmxe1p3bl/k+9bBc2LKShsnowOExL/McX/rOnpTPtPyf6Wuni7DZu+9DPM0Rjt2ByHOQuPwmqMRKJKG7F00hsx5yOYs/M7bNrTFW6Qxh1O/LvXUF1T5W6qp0S94+Pj8T72lbqDoCe2jGCkTtJ/fUw7Dat4vdEdCt2xlQZmpFH8H9W6ffd79h5+SdeMpv3XvBGmu0tXYk7mijivl/r9ZyfgPO8L5QHbdwKxl4PMV8LelhXET7eehkVmz3H7YIFvb4EV4rwkQ8e6DnPsnYzV6Fhfj33sgQU/huvUp43JmKNtLfGj/rGo8s+e6fbj/Gzf8Jsiu2HzedIp/iF2+v9olP4vmuJdNBzJKsyIDHsBK5Z1tt+Ev3Ix/uvAzRkX5DOxlKr7qC5WtcbfF6JmiuQf3Gj9fdR+orkfKzb4OJbV8yAWFQsa6We7YfC4G22fu/gPVvoeg61W8Ed/X2R6wK3YUloRKrC5iJqzV4slJ9JCYeMU/yVM/vBpZk3/hJ4D0jnnPyU9bzoWTT8Ti/DNwdKOj6Xmut/LMMfib6mZCrwZlvZ9HzYNIMIhPr7cR/x6ImAR/LFY5AmsFtI9gTFzhY+PX1A9fXKN7zuSDQVWJPAM/x2RZVhXYktgjQuI0bXY9IWZqRT/Pxt+cTcT/81Tc2brIv7tRpjubj3S72cvJ3jPFMzxvQMWRYwUoX7MP7daQ9pPrPD7bUfiO/7L/Fr7ALgYK+IL5lB7zK+JTDEKy+44xR05dSms2RubBvmmjzciPaxtYJ9YgTmaskpTdAA08xvnR2kW/y2xOgPB9P/lmHdciCaHpWZnLAY7D/OCRwoAzsYK6T0eZVD+gEXKiqmOzgNchaWpHkxNh9xxbqgOqMUB8DYWEdjWjeAZMRTBaz7ObOXC/Rs2LfZX6c6MUZhTstLfF+3Zfx2L3MxWT0vQB9UE6RL/JzdK8T8mE+I/pT3vXWquHIKL/eix5XV/BBnsNsdVAeMzhGURJNVkPn4mKhhY5qKjtgjyRsyBeVeC9yxwR0FqxH+H7vf87MiLu20xYFgaxP/9NZf6S3wjTHfX/gbLJEvmHjmP+qeK5wuRGmDJ8DWW0p1NSrA6BHf680epfYnPQiz74363d67WaU8bRdjKEXthwZwF1F4fotjHsWgqqHasygGQijEdS+f5MI3iHyz9/+CobTNR+r9oomQ4AwAsIj4xhnEUTaxrbjWWOTDYx4Iqdwgcj0VPklk+aQ2WWpuIlUm8B8w5mGjt1yX+yN/+ZZ2s9vcIif+I+J/2aQbEf870vIU+rl2CZUPhY9wpPgaubIL9swBCR7Xu0P3unx35p25bDMyy+E9ijBIiBXyEZQ6eh2UaPwR87I6AyqjxuzeWGfk7bH75hWjuf7rulfth00QGYMGpGZiz9HHiF5dujk33HBzDCfA+VtxaDoAUUYnN+003+2Nzg4Ni5XGU/i+aKkkb2ClZBrChPIYV6PsPNkc2jK2XvQaLuC1PMH6sJTMVf0WwexFxMgmJ//iUbSxhyk/i/4hcW+ovnXyKpegfi61sMsi3vYfVIZmdYEBeRepXQMqk+O+eE+K/TvdBIRrsBJiArSF/vdslb1Ez4NETC2qsBv6BZRdJ/KfnXnkClpXRIbB9W+BmbBrVPXE+W4FNL/mzj93B1VNmZ/NHNdN5rRdF2PzkosC2pX4jFqKJy7Rk3pN1I+l7bCrQNtT0un5P4kJZkeIu3+pcZ7JXmcMoVFBYm+muxkqdQXNS4xT/z5j43zGD4j83lt+swuaHjwQ6YcvuzaD2QmGrsYJ98xpX/wwd1aZD97uG5JL4B2UAiExSgs3pfxyrPP8bLPocYT7mFPxGwj/t4v8OPx//w+pJHBDQ0OdgUz2XxLl7TMNqqQz0R8Qx8HU2f5gcAPWjE9VFciKMamQ3WCHqaQQ3mghICYmLYsViLclNDxAp7VtVJFf/UNG3FIr/2xuV+C8tYcpHzzBr2if03PFwWnfKYOQ/lHN9bwXJL/NWQeNyaLr473HnkCP/mFviH5QBILLBTH+8rqbIONtjKfwlWE2Tt7Fs0vexFRfAinFuR+JpnKupWcthNonrsaSdAp3berE/m6b/f0F1NV0hmhyhUE5E9kVT1P+hQrsd1RJdU+9LifhvfGn/m4j/zTMsxNTzMir+O/a4c8iRF/VIqfgPB8T/1vUU/7ajxty+xVjdCCFEcvyArbBymov/MFZf7pOo9w2qZT/NqE7/D7tm/F4OgMaF0v9Ffoq0cE7M7RdNuo8lzgJQ72sQzVz837rnoRe0k/ivU89U7zF7sXUa7cZq8X/ERT36D/x5asX/9ID47zWo/n2ocWcAXIwtZztQjoCUMBjYBVsVTGSe9tiyzp1Jn5e2BFuu9Z2oG8ErgechYHgt+9kdyxSI7POpXBjQRd2Ilf4/GqX/Z7sft1F/Ti/KAEhaZB2Mzc8tVHMk2beSrAGQZ72vVQqN9GbAScVtOt2y56EXtNt2d4n/uvZQQQ+s4vXJQPcU328j4v+OiPgvzEXxbztszOewL3AZtly1HAEN5wQsLf8GOQKyQi8sOv8SVgwxnY6AaBYDi6LusYluql0xB2oY+MAfcgA0MvZj0/T/z1D6fzbp7IPAGT4gqF+nAWUAJEVLbBWSN4CLfKyQI6DWzpVcDYA8632XYZWdBzXQSA+I//PaS/zXq4PqGrU+OASraP1KCh0BhRA6uk3HnncMOfyinqkX/2NTJ/6hqdQAkCMgdfT2e33EEbCrHAEZpch12UPuCDghQ46AGdQs4rcL8acBtAJO9P+X+Bi6PtsNpyKAde9oQ9g0/f99NU1WaY6l1xyDzdN5yAfjRSRXWUwkZfjUxVjOa4O5ANgRuMmN5Ef9xjQPLS8Yp8cUEFaUNZrNgFOxpYOeA57Eqj2X1fEef3KL4rY37/aLM9pvufMvqKqqpKoqt7thRXkpUz9+IUfEv4jjCNgNK5j6IObwXFqP+21E/N8+5PALe+Z05L96x03pXEYcAccBz/oYM6OOY4yo6Qj4NfAitjTnNGCjmiajjoA9gc+xbKX/YcVS03XRBgO/bfwRiz2AYX4cH5ID0X85AOpOJ+CgqG2jgblqmpxyBOzsjoCHgdfkCMiGF0DGujsCBgA3yhGQqj6Tl46lvsCl9XQEDAiFCm5s2ap9+xULZ/H5m/9uFD+4ZO0yVi9fRK9BI2jVcbPsi/9w3va9ZBwBu2LrldfVEWDiv1PP2/c6zMV/s9SJ/znTP+LLtx+wav+pEv+Q7H76ux2Sa/RLwhHwJBahnJ/Dfa8llk6dC6Izmj6NzBEQAto2Uj3YPobhEHQEfObj0tvA8jQM4o8BhwSOoSiOHbi399d1wD3kQPRfDoC6Ey/9Xx6+3HUEnCpHQKqN4NoMoDoZWq3iDJqNlVYxxtVCOQIy6SSQIyBA6+L2vdr23uV4wqGCRtHZwlWVrJ0/izZdt7al/nLhnNd9GcDOwD40reloXX18iyXGIo6A8cBdwEgST4sshNDRbTv1vG3Pwy7oucXAYakT/1VVzPnaxH/nrQ6gfe+BqXUgJZcBsIYsV/hOcFzxqPBHs0Zg024BHJgDx7Fdgtf6AOe7LXoeMClH27IQK6TXvRGOST0S2I9F2IptgzFHzPkuwFPJ4iihfyJWLDDI5sApVEf/P8yVxpMDIHlipf8vA0Y1wt+yJ5au1FToROzUm4gjYCd3BNztA8F6ded62MBJFwGsk5N1V3IzUlJfWnh/jHejHQD8HZtzeYmPISJ98r+vGwCNkX5JOgLuxZYqit0hW3em94DDay2wmCtUVZZTumYh4aoKcsfhU+fjKM1RAdgQ1rtAjEcl5owK1/I+F/+9btvzsPN7bTHw5xQ2S83085/E/zsP/iT+Q6EU+2CScyYs90eusSKO8J/rttFjmFMx1wMlX1Nz/nW26I+ldse6FuYBL2MO/+k53JYVwPONdEzaHjgdy2CIdQ7mYsGWx7CAbapZ6I9e/rxb1OsFwG+BLbG5/zkT/ZcDoO4iM9rjOBqY0wh/y8ImJoK7kjgKVuEGWRVQrq5cT+PqpyKAKc0AGOuPpkJrLI1y8xivbQSmYpHbFyT+69EH6/6RNcB3jfTnrq7l9Y7YskIdEzkAGu9406h7XgnwVRM7JWvj3GdLgC+BR4A3axnXMiP+txyWFvFfVVlOWcmKcJrERDaEX2MT/rlOLOGf6sSr5sChrt9eR/UaahP+X5O+TMtv/RFxALTw8xPRGZtjWZ+VWKHyD3OpoeQASJ59MW9fhA3AJzTO9P+mVrOgV5xBcD2WkvgoVu12ibpx/UlTBkA+EBT+L5Lbcytzuw/W/SOr/NEYWZlAiI3B5jaOTsJRILLR85o+dRH+GRD/Y/jynYfotOUw2vcelHLxH66qYOW8CeGl3380Hsu6aezC/wXgcazon6aipU74P+bCvyJN33UicKvrt18B76n5My78o3VGhF2w7M4J1Iz+f0+ORf/lAEieIqyIQ3T6/2g1TU6yHhjng4CEf6oMoPRkAEj4i+T7YH7//Ijwfwibeibhr56XLeH/BeZYfwsr+peErRk6Km3if/oYvnz3YTptOYwOaRL/K+aOD8+fPHJ86dolZwITG+m5mw/cghWm+0bCPyWic7aLzsfTLPwjHAW0CzgDRpHfmRsVWAbci34Ovs5wv34My8gAywCNFKfcHov+l/pYOSvXGk4OgOToBBwQte0DGmf6v4S/qB9aBrAuwn+8hL9IEWtc+D8s4S+yLHbGYMseJyv8I+L/6Ladet2SLvE/7r2H6bTl/mkR/1WV5aycN8HF/+LGLP7B6iCtlvBPGW9hzpRMCP8In2FLcIaw4tb5LP5XAndgGUjfZPAcBImlM4qxos9b+rHdmouNJwdAcuyDVR2NsAH4GFX/zxWq/Hx8JOGfK16AvM0CKPfB/ksJ/3SQV46ltT6eSfjnRLfL+yyARcCF1G1KjYv/3rfsedh5vVMr/iuZM/0jxr33CB232D9tkX8T/6809sh/hBUZ/K4WQAe/J65sotdENoqA34IFFkIoCLkIuCnLx7DAH739nOyOrZYyDMuWupscrbkmB0DtFLkDoGVgm9L/c4tlwB9pvHN9G5kRrCkACSgDXlFnSRd51bduxJzNGtdELlBeL/Hfufctex6aTvG/Xxoj/+PD8ye/2lTEf6Y5EzgXmxt/CvCjmiQlrCc3VkAQxkx/9Mbm/Z+JOeuLgNuwbPGcRA6A2ukE/Dxq2wfI85ZLVMhIzoD0UhFAIfmfSRbqjOcGpWsXU7puWTnK+ssL8V8d+R8p8V8/ugHnYPOgtwW2kgNANGHWBf6/rf+dghX+y9kVQwp03molVvr/WBkCIt+oLgIomSay1AfVBCKzgx4b1ixizrhnytevnPsoNgdeJCv+D/lDGsT/GMa9/2haI//L544Lz5/8ygSJ/wYJokX+/zK0VF2q6QR0VjPkjFnyeNS29cAV5PjyvMoASEy89P8P1TQi31AGgMhyD5RrSWRW/K9dzNzxz5avXjT9kXBV5Z/J7Bzqxi/+Bx2QUvE/e/oYxr//GB3775umyH8lK+dNCC+YPHJC6dolZ0j815v1wJ+BY7FaOJPVJCljG+AurMbCKdgqBCK7BJdALQVuJ4dT/+UASI5Y6f8fkuNeHSHSYw9rGUCR1R4o15LInPhfs4i5E54rX73wJ/G/XA3TdMV/VWUFK+aNi4j/04FJOqUN4nN/iNRyNXCQG1onAtehqEu2aRv4/wfAP8jh1H85AJJjKJum/49B6UxCJBRqQgjRaMX/2sXMnfB8+eqF0yT+6yD+23XuffMeaRL/E95/PM2R//Hh+ZNHTtgo8S9ymxZUR1laqzmyTkvgDP//bMxBs6ExHLgcAPEpAvZj0/R/zQEU+UkIFN0XQjRp8f9T5F/ivx7iv0/Kxf+0MUwY9Tgd+u+T9si/xL9oBNyIZSEXAA+hiEu2xf8fsUzxUuABYFwjGrhFHDoB+0dtU/q/yGPjOPKPpgAIIZqy+Ffaf86I/9ER8T9Qkf/GxQDgMGw1k+dQ4exUMcEfIjfE/zVu9N6CLfvXmAZvEYehwJaB50r/F3mNigCKLPdAuZZEmsX/T2n/V0n8J2E/hkJHt+vU5+Y9Djk3feK/X0T8F6ZY/FewfM648IIpEv9pEkc3uAOgBFu3/ks1i2hi4v9qoBh4G/gnjST1Xw6AxBRh0X+l/wvxk42sIoAiqz1QriWRZvE/NSL+l6lhsin+P2TC6CdN/PdKh/ivZMXc8cyf/MqEjeuWSvynnk5UB9CK/SFEYxT6x7rh+xRQFSX+WwFfYStebGhsP04OgPiD135R28ag9H+RxygDQGS5B8q1JNIk/n9K+5f4zxnxv7eJ/4K0RP6ZP2Xk+I3rlp6GlqhLBwuBJ4EzgR+BuWqSlIrS44FvMMdVqZokbewI3AmsAmYB84DfAn8JiP9TaKRTMuQAiM3ewFaB5xuwpR3yKf2/GzW9tt2BxcCcFO2/NdAl8Lw50AMYq+6Xq7ZyTmQAtPC+WeiGeonOTN70wEy7ltoBHQPPW/m4laoiP819XA0qnC2Az2iE0YTGK/6fd/FfkS3xXwRsBwzye+Lz2NrpqaDA+1gLoNLv4eWNQ/wPSoP4rxH5l/hPL7cCz/hYtlDNkTLOxtLN1wKnA2+oSdKqg1oB7YEXgfVAT9dGEfE/vrH+ODkAYt+Mh/kNM8Iy4KM8a4ebgG2p9i4WYWkvqXIAHOCD2LKAoTJWDoCmIdTSRHfgOL/xHQE8Abycgv22xJxP+7r3ojuW8TMZedfzmWOA84GV/rwQeCWFDoDNgceACiy1MHKvmSgHQCbF/7Rsin+AA4EjgX/5fffDFDkAdgFGYE6r74DDvW/dCSyt5z5/Cdxc3KZjn5WLvmfisnkpa4SKsvXMnzmRjlvsmybx75F/E/+nSvynnQ1Y1FSkll/4Nd0aS09/K3D/EKnltwGd3MP/bgQeBO6lkRdjlANgUzqyafr/R+Rf+n8P7+BBx0c8L+6uWFThq8C2ELAb5jGbHuMzbYCZwJ8C29aq++Uw2V8G8AgsQnoFsAJbczUVDAIeAZ7GIhYn+d/jgc914vOW9sAXwPWBbavivLcPNuf1Yxf0QZHfF/gEi8AGaYF5y/7k/Rksy2yNmj4T4v+58tULpz8crqr4SxbFfyFwGrac10zgHKodTg1lW2Bn718/AAu8Lz/TAAfA7h377NKnda+dWFlSSSr9VCvmTqBVx7607zkg3ZF/iX/RmHnPr+tC4AWJ/7SyEQsCFQCLsAyqx91eXN/Yf5wcAJsSK/1/FPlZ/X9REo6PkLfZMcAf3AkQAoYANwP/juMAAEvfVl2FRmM4R/7JyhSALlikbCLmnHoPWJeifS/GomJP+PV+A+ZlL9JJz3vWJDlGbQVcB9yFZaVUuPi/CZv/Oj6OwVDury9VU2dS/D+fC+I/BByMpf8PwWoP/Y/ULZf2BvAu1asZfEV8B1bSdNpsV/rvdXLKG6OqsoLK8g1eayaV4l+R/yxRhKVLb3BbUqSGf2OO5kJUvDLd/Bn4FHPWv+338CbTl+UA2HTAOoBN0/8/ztP2+AXQywfxt4md7hIGHsbSpq8ETvV2vMIN4RcS7H8L4GSgLRYBewEts5izZLkI4NYu/LcB9sEiqjMDr7f0fproADdiWSzRBzgXuD/wvCfQAaVh51oPzEb+yY4+RnXApj/9l9hzqMcC92BzMie50+B0zEl1C/GjBR2wTJNSHzcbEp0VyYn/Mk/7z6b4jwyUk7CI/0RsmbTVUe/Z3vtHIiYDL8XYHsyoK8QyqEpytX+FIveYUEEKT3mNyP8pwBRdCBnjj8BZWBHA40nd9NF8ZyOWmSbSzxIsO6tJIgdATTpi84CDfAR8n4dt8ZgbsQuB32Fex3PjOAFKsNTCC7DoaSEWebif+NGMKW4wj8UiINdiEZD75ATIVfs5ySKAobTItE+xeayfYSlY0WwO3IYVbInHNDdKaiuCdbL3fUWKcqsHZroI4CfYNJPxwO7AZZiz8pkYfagCKxJUgaVcr/X/X0X8iMESLGNgLFZU6K8u+K5GlejTJP6fK1u9aPoj4aqKXGnjxX6PXBRHIFUlcT+sSOJ7egGHYqmrS3Pz6k7x/qoj/xMl/jNOD+BEvy9v5n/lABBCDoCcJV76f3ketsUzgf/f7MbDNcDwOO8vwTIB3sciGleROJVxqj/AltbYGssgeA/4Wl0x90g6AyCclWUAZ2PRhkTho41JGMu7AgOwDJaNOus51QMznQHwWeD/84GdfIz6MI4xW4GlXf8Si3j9isTpgst8zIxwEzDSHQJP6XynWvw/X+bV/q+m8WRZzAD+0cB9dMNqCzxN7EyBHLm6U3nKf4r8S/xnh1VYAcDt3I5WNp0QcgDkLC2xOcZK/48tnEqxoljxaOMC7A3vV2dgEf5kqqhXYRGz4qj2FzllR+fEMoCJvrR5LQ6AyiTE/3nA36hZ0FLkRg8knL0vr8TS+VsnuG82xxykpVik9Th3ACxI8jvWYtlTxTrXKRb/E39K+29M4h9gBywDLxETiT/VritwEeZUf5YcDmak6tr+KfI/ZaTm/GePUsyJPtbHQDlghJADIGfpBAyN2jaW/Ez/74fNF3wYi+wX++PNBOL/Ymwe/w3YXNbHMafKrTGcAC2xNOuxWFp2ATYXdjpaL7ZJCLUs0NApAP2x1Otr3Vgp9jFhgc5nXtIWWwLoXb8HNAPaYXO2l8cR/7/GVpT4B+Y8/gs2NerKOP3oSCy9+113MHRwcTpNzZ8q8b/QIv+LpjdG8Q+WVVLbqhDxnOyF3idbBsT/EHcKvJZrPzQVbmNV+88pvkKOdCHkAGgE/AwrMBZhA5aOno/p/52xSGgfrADGMVj0K9bc6wIs3XUF1fP3y4F/uvhfgNUTiO53v3Tj5Go3SA4B/oPNixW5SPaXAQTLQilg06VvZmNZJ4kyAMqIPQWgGEuRXezX/dbYMjtHY1FckX8UAUdhhVD/6feGwdic/VUx3j8Ei9beQXXa/4OYQ/RidwZEFwLc2b+jnfffc7EpAJPU/CkS/xNfyPW0/96Y0/JwrNZEdKr0t96H6sMQrC7PFGyFCrBpLONz0QHQULdxJPK/YMrICRvXLZP4F0IIOQBqpaUbes0D25ZhRaDyka+AY7GCiLtjEbD74xhQVcArWJSiLHAvH+dOhFhzv9b7a5ElkMJuJH+rrpjLRnXkn6wUARyKFek8GHiH6voRQXH/Yz33vZVf/+upXg2gBfC8TnresgI4EzgIWwkg7GNWvCUBJ2Gp2MHK6/OxNNjexK4ncaeLs25Y8b//xBGBor7i/8ecTvsPAdtic/MrsUy6VJ77NdSsMQHwFuZkysHGqP99I1xVyfK5nva/dumpEJb4F0IIOQBqpRNWADBIvqb/R8TUJJKPRC2LIxcnJ5CSC2IYJyKHyXIRwKnAhf7/lSne9wysyGUoqo8u11lvKhKhzlRiUfkH6iC2YjHfH7FYlatirNGL/8aR9h/Gpn+8m6b9T6ERzb2ub4UPi/x/yYIpr0r8CyGEHAB1Ygibpv+/S36m/wsRx7bO6jKAq4idep0KGpI9IDIqEcJqBpFY/Od+2r+Idduoh3svEvlfMOXV8aXrlp4u8S+aOL2xTKEI87E6XULIAVAPWmJpxcH0/+XYuuNCiJ90fU4vAyjyQiKE1Awisfj/cZrEf2M8hXV07lVH/l8z8R+W+BdNkmKs/syRwF5U1zEqxrKUJwHPAXPVVEIOgLqh9H8hkjbQas8ACIerQJFakZYeqH4l4oj/xl3tP++pi3MvXFXpBf9eDYp/DQ6iqbErcDpWJ+YTrND2KKz2Vlfg50AX4G7XLXezabFZIeQAiEML4N/UzACYjtL/hYjWX7VSsbGE5T98Xl6xcd27WCE1IVIqE4TYRPwr7b8J3F6S0+9xIv8S/6Ipiv+7sMKd12K1toL9fBFWsLsFVkz0Bmwq84PAZ2o+IQdA7cxxB4AQolbtFV+AVZZvYPG3o8oXfzf6iYqy9VdT+/rVQgjRQPH/otL+m8TtpXbnniL/Io/E/1+wVYleIHFUv8wdAb8DTgH+jC1frEwAkZACNYEQog5Wd8ytFWUlLPrmvfLF345+snzD6j8Di9VWIpWUb1hFZblWyBMR8b/I0v5/nCrx3yTuLOFaxH8Fy+d8IfEvmjqbA3cAnwNP1UHIr8SmAGwELlczitpQBoDIFToArVA19pzFIjSbRmkqyzeweMao8sXfjnqyfMPqK5uI+O8HtHYDczbypmeVjSXLmTfxpXDpmkUfAT+oRfJd/C9k7sQXypX2X2d7rx9W+LjCx7WNuXV/iSf+I5H/18aXrlsi8S+aMr8FxmDp/xV1/GwZljlwL7a6Wb4XMy/yMa8QW3p8VT33s6eflwKsPtwdWB2GRo0yAES2KQS29wtKXstctrt/KgJYTXXkf9ST5RtWX9EExP/WwD3AlcAOwD+Bh4Gt1AOyKP4nvBBeMW/8qHBV5VnY3MemSi+go856IvG/iLkTXyxX2n+d2MfHtbOA3fx+eyvQPbfuL7HEfzDyL/EvmjSbA0OBJ6h/0OFb4G3Z0wzCpne/B4zGsikOrYfu3QKrq7A78DXQ2be3dudCo0UZACKbFAFnAlsC+/pFKnKU6AyAqMj/FcCSJvAz2/uAfz4wE5gCvAr09Oci4+L/+fCKeRNGhasqz6DpRv+LXJj9H/AA8KTO/qYS0dL+n4tE/q/CCmOJ2umJRf5vwxxoC4CbMWdTTjhtY2UAKPIv8owdXPjPbtBACR8CJ2OBi3y0W3pjDs82wL+wTKcDgWO9bUrqsK8eWJHF44CXsUzlKncwPAiMwJwucgCIJkNrbPmRSv9/ORYxSCVVWIrSy+4AEDltflcvA1hRVpIN8V+EpWG1wVbtaA7cDqRyYvhkH+hX+/OFgf8Lif900AtzhHYDdvF+LmoMPj/N+W+K4r+d32vLgLZY8dR7UvwdrwFvAuv8+bwUj5spur8Exb9X+//qtXGl65acIfEv8oBjsYBDQ6fmTPTxMV8DF0djEfuLsSyAMOZUb0bszIpif21tgn2uj/rbHMte7lWLA6CNa526ZHQUYs7ZtN7j5AAQ8bjcjYWHMU/XH7HoQfQNeEfgwlr2NQH4T4ztZcCXWNRV5L4HAMhq5P90v6HdDfQFrvLBPdqQ7ecDf8sE+5oJ3II5uIKURwn+g7Fldr5TB8is+J874fnwyuyL/37AMd7Hurlh9UqKv2MD8JL319/o7McR/xOfL1+9cFpTE/8F2Jzd+cAz2Lzd38dxAOyGpfAn4hPg0RjbS6Psvl/7uJ0z02mCGQCByP+4jRL/In8o9mu1oX29nLrXD2hK9PRxrrWPsZVUOz+DDMZWTujmdt5i4EXgXT8H5wEHuSC/ADgKCzr9Avi57+Ni4ARsesBtWBbH+Vh2wJHATn4uvnTbdW8ff3HHwT0BG7YDlqlwqNseM7EVHh7wfjHI7eBvXJuVYk7jS/yc34MVg5QDQDSIPdwoKQM+8osn1qC0Gviiln2paFdTIASVZaUsmvFettL+d6J6/tU44K/EjmKVAONrGd8WJ3GTbes3h7tp2vPOc1X8jw5XVZ5Ow9IhG0J7zMn0P2x60kneB2M5AI4Ejqhlf8+7YRHNSn8M0NnfRP27+H8hMue/qaX9h7ACUxHD/90EY82KJO61s5L4zn5Yxt2d1L8oVhrOtA3H4coKVswdz4KpJv7DEv9CiLrxNJbJeSGWxfnfGMJ4sAvrMsxp2glbSvEgF+jjsYyA7Xycjvxd63poe3++A7BZYGzug2X07erf+YrbDle7k2EE5vBvD1zhduoN/tlhLuZfxZy5A/xzIR+vf3CHxjVYturnwHBsusfl1HHpbTkARDyeAy4FbsQipfEMj/mYp0s0cSrLNmRT/AO84QPfzT5gTmbTCD5YUbBHG/hdbXzgfQl4TGc/M5SVLGfRjPdx8X9aFsU/2Fy/wcAMNyAexeYDxhsHP6tlfwt1hpMUg2GbblS6domn/U9rqnP+q4BnsejSP7HifOPivPeHFNxrN8OiU/dghcJyyBMSssj/3HH8+NXr4zauWyrxL/KNpViQo4CGVZlvg0W/85XpLohvw1ZEOBFbVeENtxmLXXy3x6L6k7Eo/2hgJHAGVv/pKSxY9Jrv720X2Y9ijtrXsOzosVHiO+TPzwLm+ONF4GwsqPCkH8Mgdw4867bOBOB4YK4fZ2cs6LAPcL87Hx4FfgWchgVgL/Hj/l8ce1gOAFFnnsAi/3djXrIjiT0/ZgDwp1r2NQ5L1RaN1UqtKmfpzA8qStcue7K8NGsF/17HUrCv9z55DDaXNZr+wGUkngLwHXBTnAGzjTsaZrj4r1APSD+VZeuZO/EFSpbPHpUD4h+/ub6JZYEU+Jj4dZz3TvCHSBGla5cwZ/yz5asXTn0kXFXZVAv+hV3Uf+ii/G5sGkisIlWDgXNr2d9YLDU0nvi/BKuK/WZdjcUMeABYOX8S5aVrx5WVLD8jHK6S+Bf5xnPAn93uaEiNjl2wOerf5mk7VmLBm6Uu5g92R8AjmKN1Gyza/m9gqo8zFVig83MX3QVYLYaIsF8b+H9F4P9rsOys6O+/0YU/rqWmu938pH9+nTsY/g10cXsn8v6O2DTXEFYn7VSsWPo0P96H3ZmwM5ZVcCP1yOaSA0DE4k9YKuJXWOG/131AGRPjvSvjbA8yp7H88EUz3mPdsu/VA2qI/wpWL5xesXHt4ifC4fDlZGfZrZOx9NYx2BysNzGv6NMx3rsW+LiW8W1JAuPyYCyN688+UO8I/BLLhMkoy+d8wfS3/6/J97GK8g1sWLOQyrINoyB8ao6MGeuBv7tgugUr9nM5sQs0Dce88ol4lixEXSvLN7B26XeECgobhyKurKBs/QqWz/68vKqyrCmL/xDmqHzFjcM73TjckdgZd8uSuNfOTGDrHevGakT8H+SG5zN1OeglM8ewYfWPKW+MNYtnULJ89rhwuOoMLCIn8S/yja+xudw7UXtGWaJx5SgXiovzuC0rscj458Befi8/G3gHc7A29zYKBngqvP17YEsyNsSBUhq13+ADH99Koz7T3fXXbv7ABX4plqEQ2e99WABsFywzoF7HmQsOgPOofe6kSJ69afhyegOx1JQ7MU/U28QvgraA+qdbF2LLlHTD0mH2cKNkBpYCk2meXbPo66/WLPpavSj2YDaK7K25vTWWhVLm/eUjYFKc9y6j/suobYctGzOX6nTbXmQnffvdkuWzTy5ZPjtf+lhk+aJcEP8d3Fh41I/pZSwT4A5i1zSZDXxQyz7nZeF3rFu3bNakiS9f3Kwx9YLKilKqKjaOdaOtqS71F8LmifZ3g64t8BbxM19mN+BeeyA2zWAa8FBgTH2zjvt5Ze2Sb2etXZK2wOKXLoIk/hsnbdym+zXmRI+M6y/5eVV0JTHLqJ4zPsHtnbqyPRawOEXNCZgjf5SL+gexTKhvavnMUuDHDB9nEbYM8MFYkOsJ374PVjcgqNsPALp6fxmMOY2nNDYHwN3uZRGp432seERDuMYdCX2weS4nELuCZioMoB5ubP8dS7lpgxXjyIYDYBzx51+K7HInVriqOxbhP4X0LM+3Erg2jjDNNF8TP+VcpJfITbY5Nv+/CpvvF0+MTiK+QyqZG//WmPOpEHN0TcO8+ssb+DumhqsqDirf0ChXstzIphGSpkQVNg91LzdKZ7nhX5KG75qFzT0N8iZ1DxY0pJ+Lpi3898eKqHXD0pFH+r2zL5bpUoI5eB6TIyAhr2MR/F8G7j3JEqkIP4HaC4Y2Zbq6LReM7i+netrTercfD/V+Gsnqa40ty/oj9XO+NITmWObHWKx2QaXbA92j3re53ze+xKaN/Qdz7p5X1/tlth0AY3St5yTzsHTVdFORJWElGh+LgRcy9D1PqLnznuVuSG3j4uxNLGqQDkHaHMsyKfebeJUb0QtS4ACoJD2OMpEafiAzq+R8S/7OBxbpF/83ujD5Nzb9roJqR1YzrABbNywz4HksyPQB6XF2NXaWuQ3yd8yB8kaSToA2VE9VO5P8rl10IRZYfNrv2V29j07DgnwzsUr7v/Htz/j99/dYWv1v6+AAOBGbWrWWhi0XXYlNTd0Zy4Re4g6BP0Vp9l9jBYrvwhy4r/jveMSvPSGEEEIIIYRoEC9hdU7iif+XsKkstdEcOMxF7T9jvH4UmXH05wq7uohrG7W9EMu8fRtb9WhHLGM2nvA/Eps+9D/MYR2r3UcDP8uTdj0Mi5CvxBzgS7wtBwXasSfwOFYHYBUW9f8Ci6YHC0j/DCvyt3fUd3Rz8R35jvt8+xDfNjSq/V/CovVBjsEc/Tv4cQ3wc7gEcwy/hxX8m4plCe7pzov/wzKmcYfBBCxDsZOGKiGEEEIIIUQ6HABtsBTkZ2MI2NrYysXNvnIAxHQARJwAm2HZAFO8nY+hukDcbljh2bew1ZEujyP+89EBUIBlQvwaW1bvMGzJv2gnSrG32W+AQ7CsgejM+C7AL7wNo2nlrx1Pdc2L5r6ta9R7N/djCtIX2I/qAn8hP85Dsbn/bfwx0H9T6xj7jjgO9gw4BYQQQgghhBAipQ6A4Vi0sn899leArZH+igscOQDiU4wtWfcnbNrE6MDjaRef/QIiUg4AkRRaBlAIIYQQQgiRDG2wQrw3Ur8aFlVYMcADgCvZtEClqGaDi/cxWJp5MIpd6a8LIQeAEEIIIYQQIi3siEWtP23APkqxtPYLMIfCujxty1ZYJsD6NGu9Nuq2Qg4AIYQQQgghRF35NbZcXUOXShuHLbu2A/m5bN16rHr8XzPwXRvIXyeLkANACCGEyBu2xZa2XBXjte3d+F6NLXGYLhtja2AOm0a4mvsxFAOL/D3poBibIzsTW+opFq38WOYCS9VtfqIXNQuLtfe/76TwO7agZlGr7t5nP0/D72nnvylRf++IFan7WoIpLtth89GrGrifxT7+5Gvxsm+BI4hf4T/VlKrrCjkAhEjM5lhlzb2weVZdsSVDxmPrq7bCqnfuja0BuiU2T+sFf38q2N6PYSe/QRQD9weMlw5Y5dIdsPV0t/Fj/CAN7dHDDfmdsSVJRquLZJUWwKne956O856B2Hq2N2NrC6ea1sBlwLvA2DjvGQb8HPgb6VmXuJMbozthy+m8pq4BWLrnQdi60OdgSyAF+ZsL7oX+/1v8PKaSrljV6vP979QoIXklMBlb6/pKP46JaRjHz8TmGv/KBUe08D/Lx9cZMV7Pd34PnA7M9+chbO52KrkMWzJraeA7rk/Db9kB+LP3vSNivN4FS0f/EZhF4qJqQqSCKjSHX4gatMWWNPgrcAXwCLaMQ8RL1s6F2XX++qNYSlLbFB5DV2B/4B9YgZIHgT2iBNEB/vpfgAeAA4GiNLRHMbbEx6HqGhnjX8DHLni7YOt3fgZ09tcPxNYZ3cnP+eHAJO8T8QzyDnH6evs4n3kLeBWLWPTx568HjKRTXXj1dEP2TD+GbeLsr6OLtlgiqlWCttjSf/+v/b3N1T2yKvz3Ae50sfLPOO9riS3R9B3xlwaKjC2dY2xvRfw1ZVt7f38Yczwdl6DPv+fXUYsEx9DOH9G0r2VM7wb8GzjR/99C3QOwqP9d/ijHnIRBdgRGUR11PdfPUay2Dvm5Hha1vcAF9b5xjmFf739PAsux9ZeD/MqFZFvvq7d5fyqO0+d/hzm0ovv4iZijNBbH+nXyNhbN7R6jj1/vdkYbMheFa0xcha05XRR4xAscFfk9aesYY8zpxK8W/5Dfu4LfUZhgTDnfr/fo++hFCcasS72PTSF29kIX4CngJI0jMYleBeB1t8kbSkssmLCXP8+3VQCEyBq5mnazow84s4E7sKVGbnaxhf8dCUwDbndj5u4YRkbwd/aKsb3QxVMsDsGirR+5EfEtcCu2biM+GN7p330nMM8Nrs0SDHRd49w0uyYwzn/hbXAllionMsNjwMlYhGqZC40NASPx1y6E52JpVW9gEa54/elkrIJrtyij5Tbgj3Guxeuw6NSPWATmjoBxUujG7yosirfeje1VLvRjGdFXuGAMOgE2c+fVb+Icd3t3hszza3IF8dNoRfpp5+PfmyROT/29j3nLa9nfr9wA3zJKGF3jj1iCLJIW/F8SZ7tc7ddObZH/c/36ahflrLrX+388R8iN/v1PAkto+HzUpsIS4AbgOWKn6J7r400kK+QbzLm9UxwHQGe/xw0L3E+P8fGpdZxj+A64ltiZQu1cEK71x0a/1/8izv2zAEvJvivgBGjpgu8s4jvdP8ec89PjvL4XcLCPa+uwTASxKRV+j4s8KhLYWTu6LbZ1wIa5yh04LRN8R3nUd8QbVwqBIe5c6hp1Hz0ogXPiv37/Wxmnj49wB8VrGkeS4kW3gRuaRbwz5pjTVAsh5AAALBXvWDfsNmAewfmBAX86cDTwvN8snnYjJp4Hf1us2uiwqBvJsVjUoUeMz4zGIlvvuJHyqN/4IlGSt4ET/H1r3IhenOAYDnBROSBK/F/sxlqs6EsXN3xecyNJZI6pbsRGjMKDXWSXB/oPUaKpfYL9PevG+E0BEX8t0BvLLollqH+CzY2NGClHY2nOkefNYhjW8QzyMv+eAcAlvq21i/uVWKZBvH7b249fBnL2We7CeCrx518OxNb7fYba0wvf8rH1X4H++wcsA+sBYs8ZnOnOrERztof5uPoitc8Tfdi/+4bAfelGFw+Px/nMYBetD9DweahNjZU+TsRrl+gMoTVugMe6d1VhkdE7qK7W3QM4zR08/4vzHQvdwRBrzGjJptHg5X6Pi3UMpd4/x2KO1JaYs39/bG3sSXGOYbb/tljH0MqdEG/7mD7EHSCaFrkpe7t4vsf7QDwhvx6bxvE1NvWouV+ju/rnZiT4jkP9Ox5yuypeBsBq31eli/YCdxz1cGfQkjif+5r4jusuwBk+pvXxvrCtTntCJvg13LEB+wgBuwDfE99JJ4RIE7l6s1uJpSRGOBAr4rM6YCx8HGXw9nKhHovvgCewbIFjsGj+PlhU/Upiz/ub549IOw13wRQxqKPXPh3qwi6ewf2h30hvwaJzS/zvocCFxPaAzsdSr7eV+MoqfbHUtDsCffA5334cliVwgguWT+LsYxlwHhaBPwFLne7qhsf8JI5hJzd4j/XnFW6wnIxF7xe5YfR9AkPrO2w+8FVuPHV3Q/3vxI6MtHdDfz6wm39PO6zGwBg0dy0bhEkcdW/pfeJLrF5Fbaz2/nAllv46B5srex6WYRXvGBKNR228L96VZB9Z4v3sZr+eClw8nEnsgmwtsCj2ciwr6jDvl59jUw4UTaobE30Mi0cF1Q7w5/3vXVhUNVX3pVEuyONRgqXrXwC87M+v9X5en2Poh9Wm+NQF6lIstXw1li6uPmQ8D7yCOf12xSLtRX4vjBWUWINlDl3qn1uLTV+cmuA83emfW+C23vVucz0VZ6yL3Ev/jjmuVwBnJ3kfjcVgLBK9px9HGZbd8j7pqUXQFJjqtsaRmAO3PtdgVx/370BOXJHbbO9jzGOY8yuaAZhT+ni/Fp7EnONrcvlH5XrlzR1c8FyHpUmPi/GeEBaxGovN74pnwDziA825LqR+60bvGwkGr2Z+YzgPS/k+P4bwB/OC/t5vRvMTGDD/h00pOM2N1iEu/sfHOYawBsas0wo4xQX/yMD2DW4otHHHUBsswpAofXC5i62TsejZ1UkaLR28315FzSJZJW4gtfHjbOPHlUggfodFWq/H5vb+LY74j4jJflg0Zqo7r77BItCD1TVykt/5uP54YEwp8vGucwInwPWYE/MWzFE6rQHHcLU7iMYEtrVzQd8sgRPgUqwg2EX+d2mC+9aWPvbP9mP+EItQDlMXqDPtqL1+TgVWJLCfv/dDUuuU7kTt9XNK3FGwi4u+KQ04hpD3o/ew7KZ3/e+RWHBAVN8vpvt9LeJgO4NN6ylEOwFGu30zB3NIJzpPk92uKsMykr5ymytRXZpl3gcPxpaPW9CA3xjy43vW7/FvufF+FvHr6eQ7YbcDjk1wX6mtzYf7OX9DzSlylLZY0PgdH5NiTdce5OPiHa4Ft3AHwHW5/uNy3QHQwm/0C7DoVKwU68NdoFxWy02mwo3i+VhK/Xu1iP/IIFXkN6fmWAp2cYxjPA5LQ/x3LfsrwTzo/bDI/kMJxL/IDfF/iQvk/1AzHfpEP+d3uPF4kfeX40lcPXhndxSsBHan9sJT7bF06HewqTCRvlLoA9JTmHMrYrDsjM2FjEehf+9i//+AJNphbsAIfM//Hq7ukXO0x7KhOmCOxXOxKugXYFM5Eo332/rYtsD7R30LPfbCMmP6+5h8kh/DlcSv0RJhdxcPJUk6mJb6NViGZYT9SHWGjEienZM4N92wiPstLpKuxRyOqWIYiYtVgs0vPwNL+1+KZTO1bOD3VlDtZJ/t10B3dYm4oq+K2qvj74Y5HM/yMeeUOownkeyi2r7jQBf/R2HZcSNoeBHH8sBv/N6N/Q467bU6bu4lfvHFeHb1UVhQ7ybiByCEyLb4vxMLvCXKdjvf70Pn+n3sICx76DdYEDtnyfX5bpP87wSqCwGeHjgRR2BexEtJbpmrLm4gT8Lmpr1B4lS/cqzyO9iyMC/499zo25pjVW97+ba1SRxDZM3bWX4M49D8/lzlHD/H97v438r7yyI3bDYGjMdVWBRzbywSuT7G/g5ww+hUf/0x38+LCQaXm7AIx0v+fCAWVdngny0NfHax73cfLE02lvg/AYugDcfmTd6GrWQRaxm3MmyKQJAq3661snOPNVTXd4iMNYOx4qXziF+8aw831q9wB8Dt3u8fpO4FHxdi2VAR9sKW6buGxMW9Dnej8Bjvp0/69rdivLcKc+QWRm2rpLpmhojP0260tPdxa3Ms6jo1gfj/B1b5+7+YU/wxdwZcTN3T5Vf7fvphTtYKrM7IGOJnRO3oguF+LO2/J+b8LPL+Xdd76JwYY14vzNn5qboIuJ1yFeZgnuxt3Q1zRi9NIP7P9THkKyzA8bSPJ/fFGE/6ex/6l5+TNi4mXyb+9KED/D52jfeXuVj0PuSfq2tAZSI156AXYLUAxpG4boEcQras4n1+XV5H7Vk5Hd32uNzvN1q2VeQqBT52Xem2/2kx3jMQcz6+FrDjF7rj4A3XEOerKetGO2/YoEf3bTcKI1GsnbBoZOfAwJIomtkdKxh1qHtrLvaBq02C928d5TyYgKW3RjjGjeRI+mRv4i91E+ksD7lR3sY7yRXUHsXY3g3b89Q1MsYeWIrhmS6oI6L6DH/9b240bOXP9/Wb32EJjJaH3bAg4MD6BpteEoojiiZQnZa6nzsDhrr4eQabUtLOr4vj/JgGxBH/v3fBH8mkaeZ9aqLvMxbHe59thWW7/BGrc7C5ukhW6YOl5z5A/NTpLbx/nVRLP3+Imp7q/bxPnE1iJ/Fu7nS4mPgRuyE+dg1JsJ/D/Nro4s9D3pdnsOkSdhGG+U23baBvf0X8JeHyibaYI/IcF1wj/Zx2DNwrR2Lzu/dxgXdUnH0V+jV/eNQY1RdbieK8BPfPfbCpJWVYZfi9qC5Suh1WS+Q2P8eP+jHHsweupuYyvGAZIx8kGHP7+zE8506KK73PNg/084ewInJHu1PiHLTMadDx84o7So5wZ8BIrBZALDph8/KDyzWG/N74EbGXjNzSz+FbWOTsZhfz/eJ8Ry93FvSJ+o5fuWNo6zifG+TfP8mdFycE7pMFmGP+Hu8vp7uTQ8suVxO9DGD0eT/Vx+sHvJ07RL2ng9+HvvDzNDyOzaNlAEUusrffxw6O2r4fFnwYFuP+N5Ucn96Sq+veDsFSqw/HoqoD3FC4ygeQ9i68F1AdGd0dSws7NI4x8k8XcG+5l2Yz38dsYkcxTnbh9Xs/8fv4+87HovdbY4WQPqC6IOFvsAjs5XHE/0XYNIFIca7BbhiN9N+3MYEDYLQbK39Fy7BlgvPcwROswbAM83h/50bpIVjhoBXuiBrp4rg8zvlfSs0IZcgNq5bEzgK41Q3W4DH8gKXArsIiNEe5E2KtO5WexqI14RiG/E5YauPqwPbmbvz84A6PaFpiKZybY5G6CjfQFBnJnriLLPEXSZMf7wbrh1EG11nueJrihnmsgjTb+LgzJ6pf7udG+FMx+nMPP4aufgzr3FH1PDUjab19vNzLb4S3EjsDYFf//uCShQXuGNuARZ5jCdPjsPT1dVjq9tPuBMj3KVXtsSyfQm/HSFrzJB+rIkb7rr59sm+P126RfYRjCMQyH4ui6en3rVDg8xvdsbQu4ETYBssMmUziDLoCYtfD6eP9Jla0eCv/jgI/jir/7ol+3CE/xh7+/xluU2hKXjWtvJ+08PM3CZuiU9fz1BfLUNsYwwZt5/21wPcdOT/xbNZQjO8IYQ7PH+J8/64+Jgb7wnKqs0wL/T1t/fxP8n6tvlDtAHiCmnWQott/Vx/vB/k4vzLq9ULfx6v+WjiOA+B4t72EyCUHwGi319+OcgCMdgdA0P5qRvUKcYfJAVB3A+ZfLqaXu7HyNJaSFXYhc0fUABL2bbGWM+viBnO0cdgX8wTfE8P42AJLaZrvN61IkZiv/fUR2Dzb4P7WuaPhsxjH0M8HwO+jtu/uA+ejMW6OnbG55t1dCJa5of0qsQsiitReG/GWxYo2eOK9VpdrMBzHmKKWY4g+zvoeQzjJtqitArxIP7H6RazzUpDGfpHMMTS0bya6NlLV94UQQjTMARC8L3TAHDrBsXmFO1Vqsx/kABByAOS5AyAZ0VGQhDhrqJGb6BiSFYiZMLSFEEIIIYRIhwNgArFrBaWSfbEMAjkAhBwAaSaXiwDWJnKrUvg99TmGVIrwTPxOIYQQQggh6sI0bIrtAWn+nhA1l48VojHSEctkX6OmEEIIIYQQQgghGg+1FQF8OGr7L7HaScfn8o8q0HkVQgghhBBCCCGA6iK2oTjPJ2O1LXbGatUVYMWRz8Pq132lJhRCCCGEEEIIIXKf67G5/ROxSP8Uf34n1QH0I7EVwib5a5Ox1b5yfhlRZQAIIYQQQgghhBBGObY621LgPRf2G317pHbba1htjC/9tU+xehlvqvmEEEIIIYQQQgghhBBCCCGEEEIIIYQQQgghhBBCCCGEEEIIIYQQQgghhBBCCCGEEEIIIYQQQgghhBBCCCGEEEIIIYQQQgghhBBCCCGEEEIIIYQQQgghhBBCCCGEEEIIIYQQQgghhBBCCCGEEEIIIYQQQgghhBBCCCGEEEIIIYQQQogoQmoCIYQQQgiRZloChcAGIBznPQVAK6AUqFCTNSkKgRZ+/hPRDCjy91XmcVv1BH7m1wTAl8CcONdFIfBzoBPwMTBf3U0IIYQQQgiRDgqA3YHjgcOB4qjXuwBHAw8B/wOOATpQMwhVAAwFLnIB83dgWxeDIvfF6ubAccABMV5vDRwMXAm84O/r658L0hI4BLgW+AQ4H+gT4335wDHAJGA1sAYoAb4Fzgw4BIIM8feFgcfVJYUQQgghhBDpYktgClAGfINFLoPi/2HgRxd/rwFLgZeBzgEBeTQwD/gQeBKYAXzvDgVlq+YurYCTga+BKuADNnXsPAAsAmYC7wDrgGmYwygo/v8IrPI+9CwWxR4P7JRnbdoZ+BQY58J+N78O5vr2oqj3dwPe9WswDLynbimEEEIIIYRIBwXAn4HpwJtRDoAC4DoX/Cdj0fxiLLq/EjjBxeJAYDbwSuCze2IRz7eAtmrmnOV2YLIL+1gOgJD3jyOArYB2WHR7CeYMinAAFu2+A+jvfedof99d5FcWwB7AeuBCakb7/wvMwhxuQc4DFgLnygEghBBCCCGESCfDgInAWS7egg6A/v78ZRd+EXZwwfKub7/Rhd6wqH0/ikWLD1Yz5ywnYFM19sXmpkc7AGLRApvmEXEAFAJ/cQfAboH3FWHp7HOB7fKoTbcAvnPB38m39QEmAO9Tc1pMX2yqwK1+/cgBIJKiQE0ghBBCCCHqSFvgbCy9/3mgPOr1Imyu//vY/OQIPwAfYanLhUBXYIELnCDPu5hsr6bOWZ7GpmuE6/CZZtSM6DfHUty/wKYSRCjFMkDaY1MN8oVZwBPALsBTwKnAfzBn2U1UF0ZshjnP1mF1E8LqjqIuF6EQQgghhBB1YSiwM1bcbWUdPrcBm+tdG0uwtHLRtNgbywJ5P2r7Giz1XdjUiiVYVs0vsYyZc4DRAaG/B3AQlvq/Vk0m5AAQQgghhBDpogs2r/8F4HU1h0iSYmzO+nzgETVHXG02AvgD5iRZBOyFRf/7AfdijrHzsSk2/1OTCTkAhBBCCCFEuigAzsCK9/2dTVP/hYhFC6xWxM+AU7BVAcSm7OJi/13gAmAFVk/jT1hRzfHYsoCHYM63Y/xz2/rfXti0gTfdeSCEHABCCCGEEKLe9MLWcl+MFX8b4tsHYvO1TwDepnqucjSFLgZrowgtAdiUxP+5wNVYccdRMd7T3HVJhT8PsemSd/nAqViGzUsu/sHqZjyDOVDaeBttBA71R1DTbQVcjNXZkANAyAEghBBCCCEaxEasOFsnLFoZoQeW4r0LVpl8HlCGzfcuxub+48/3Az7xfZX6vvphS8pF7NPfYQXO5qrJm4T4vwZL+7+amnP9K72/DMeq/U/17cXAb/z8L8uj9voRS/GPOMDCfj20d+FfDnwFHBj1ud2Bh7Bimse700AIIYQQQggh0sLN1FwGsCVwHzbf+wAsqtkFW7JssW/DnQHLgNv8s12wNPEfgQd9PyI3aefn63AX8h9jqzpEVm4IYXPZ1wKPYcvWRfpBZ6oDkYdhae3nBV7fC1sO7/I8a9N+2NKan2GOk7OwKv/TsSKAHeJ8bn+0DKAQQgghhBAiSw4AgB2BD90J8JU/5mCRytb+niJsHfglLnK+8v18A+ypZs1p7vXzNcvF5zp//po7Anr4Oa0Cvg/0ga+wqP9vfD+dMGfPssDr32FZIn3zsF13B+7CMmKWAiOxDIqtiD8tZhvgA+BCdUtRG5oCIIQQQgghGsonWKQ3mN49DYtinoqldOMi5V0s4gs2BeBmbGnAHXzbEuBZ4Fs1a04zldjrzy/wfhACnsbqRkRTCcz2/68ALsOmjXT3bd9hq0zMz8N2/dIffYG22DSI2pb6+xYrCLhU3VIIIYQQQgghhBBCCCGEEEIIIYQQQgghhBBCCCGEEEIIIYQQQgghhBBCCCGEEEIIIYQQQgghhBBCCCGEEEIIIYQQQgghhBBCCCGEEEIIIYQQQgghhBBCCCGEEEIIIYQQQgghhBBCCCGEEEIIIYQQQgghhBBCCCGEEEIIIYQQQgghhBBCCCGEEEIIIYQQQgghhBBCCCGEEEIIIYQQQgghhBD14f8B8XssYg/hbesAAAAASUVORK5CYII=)"
      ]
    },
    {
      "cell_type": "markdown",
      "metadata": {
        "id": "bYjFt_cbaPPx"
      },
      "source": [
        "Layer 1 (C1): First convolutional layer with 6 kernels of size (5x5) and stride of 1. The input size to this layer is (32x32x1) and the output is of size (28x28x6).\n",
        "\n",
        "Layer 2 (S2): Pooling layer with 6 kernels of size(2x2) and stride of 2. The output of this layer is of size (14x14x6)\n",
        "\n",
        "Layer 3 (C3): Another convolutional layer, same configurations, just with 16 filters. Output is of size (10x10x16)\n",
        "\n",
        "Layer 4 (S4): Pooling layer, again with the same configurations as the previous, just with 16 filters. Output is (5x5x16)\n",
        "\n",
        "Layer 5 (F5): First fully-connected layer. It returns 120 units, and the activation function will the tanh activation function.\n",
        "\n",
        "Layer 6 (F6): Second fully-connected layer. It takes 120 units and returns 84, and for the activation function we will use the softmax function."
      ]
    },
    {
      "cell_type": "markdown",
      "metadata": {
        "id": "dV6OkaDVd7sn"
      },
      "source": [
        "Let's understand the parameters a bit.\n",
        ">The kernel size basically defines the size of the convolutional filters.\n",
        "\n",
        ">The stride parameter is an integer value, specifying the step of the convolution along the height and width of the input"
      ]
    },
    {
      "cell_type": "markdown",
      "metadata": {
        "id": "C_OdcbNDWaRR"
      },
      "source": [
        "Now, that we know a bit of theory behing the LeNet-5 network, we can start building it. We first import all the necessary libraries"
      ]
    },
    {
      "cell_type": "code",
      "metadata": {
        "id": "POseMRPDLkek"
      },
      "source": [
        "import matplotlib.pyplot as plt\n",
        "import numpy as np\n",
        "import datetime\n",
        "\n",
        "import torch\n",
        "from torch import nn, optim\n",
        "from torchvision import datasets, transforms\n",
        "import torch.nn.functional as F"
      ],
      "execution_count": null,
      "outputs": []
    },
    {
      "cell_type": "markdown",
      "metadata": {
        "id": "MH0WJfXFVwpu"
      },
      "source": [
        "We will define a variable `devices` which will store 'cpu' or 'gpu' depending on what we are training on."
      ]
    },
    {
      "cell_type": "code",
      "metadata": {
        "id": "4bQkMnxEVFvH"
      },
      "source": [
        "device = (\"cuda\" if torch.cuda.is_available() else \"cpu\") # Use GPU or CPU for training"
      ],
      "execution_count": null,
      "outputs": []
    },
    {
      "cell_type": "markdown",
      "metadata": {
        "id": "u0ttaYJvcAcv"
      },
      "source": [
        "In this step we will download the necessary dataset for training and validation. \n",
        "\n",
        "I will not get in much detail here, i will just go through the code. If you want to learn more about data loaders, we covered this topic in a previous video. I will leave a link in the description bellow.\n",
        "\n",
        "\n",
        "Moving on, we will download the fashion-MNIST dataset. We resize our images so that they are (32x32) and then convert them to tensors, this will automatically scale our images to the [0, 1] range. We also specify the batch size to be `64` and we also shuffle our data."
      ]
    },
    {
      "cell_type": "code",
      "metadata": {
        "id": "4gEP1xhNNKXb",
        "colab": {
          "base_uri": "https://localhost:8080/",
          "height": 581,
          "referenced_widgets": [
            "d6427f6fe9de4209ab203c885d967af2",
            "0be70cfe4995483fa0ba4a895c519e8c",
            "68639dae1adb4357b371e32ef3ef7af7",
            "3c032838d2204c65b9ce8f8bd749dba8",
            "1c11b7784e384ee3a9f5bd462a274bfb",
            "53dbe35051044b3daf1428bccad12575",
            "182da8f1aa584c5a9eb6c4b9b3627b62",
            "b2531980cd45481fbcfc40e01a1b1c10",
            "e8be4721d5df4e8eb8dd39a3a909ad20",
            "ac13335af9e7431bb6480c2d2c6ba902",
            "5c089e3b7d5442b78d5d0173e13b2ffc",
            "9faeaa934fc04f9c9985525a96660356",
            "7f307485febf45b8b288f66e6722776b",
            "cc45ee45ab6847d4b5adb4938b946c30",
            "065d0ba1e83f4612b52c6b86dcceb4bd",
            "6042525481e24c0bad9cee613ac05402",
            "874fd9eba2ad408ab47c7590e3ab15dc",
            "2595a8a1e2a340838620c82f15798e88",
            "99ea97639ffb4ba787ef25221db4cd90",
            "91bfbb7278444f5aa7cf0ec3679172fe",
            "637d9038c2a24cd093b5f352f09a0000",
            "1961f54ecd434e0bb3582ffb44a49139",
            "c6585a916ba44d21ac2eb6e5ac5aeed7",
            "ef34d90623c44997b9e1717b21346363",
            "98f23e2981e040b888a6c0dde0cce9c8",
            "cdbf5166ff6c4be0927fcc7ffbed5073",
            "0144ae9f00f0437e852534fe12712ecc",
            "55f8382d300844a49e81c51a48a27ca3",
            "e2d6f98759734c07ac935df192f67f95",
            "7ed03356791e4c6386c19b188cf29e54",
            "b52182cb187b415ca76499ff8fc74721",
            "41b63ebeefa14ee9929ef371d05af796"
          ]
        },
        "outputId": "ed85073b-2a03-4b6e-baae-d87812ee4e00"
      },
      "source": [
        "transform = transforms.Compose([\n",
        "          transforms.Resize((32, 32)),\n",
        "          transforms.ToTensor()\n",
        "          ])\n",
        "\n",
        "train_set = datasets.FashionMNIST('DATA_MNIST/', download=True, train=True, transform=transform)\n",
        "trainloader = torch.utils.data.DataLoader(train_set, batch_size=64, shuffle=True)\n",
        "\n",
        "test_set = datasets.FashionMNIST('DATA_MNIST/', download=True, train=False, transform=transform)\n",
        "testloader = torch.utils.data.DataLoader(test_set, batch_size=64, shuffle=True)\n",
        "\n",
        "train_data_size = len(train_set)\n",
        "test_data_size = len(test_set)"
      ],
      "execution_count": null,
      "outputs": [
        {
          "output_type": "stream",
          "text": [
            "Downloading http://fashion-mnist.s3-website.eu-central-1.amazonaws.com/train-images-idx3-ubyte.gz\n",
            "Downloading http://fashion-mnist.s3-website.eu-central-1.amazonaws.com/train-images-idx3-ubyte.gz to DATA_MNIST/FashionMNIST/raw/train-images-idx3-ubyte.gz\n"
          ],
          "name": "stdout"
        },
        {
          "output_type": "display_data",
          "data": {
            "application/vnd.jupyter.widget-view+json": {
              "model_id": "d6427f6fe9de4209ab203c885d967af2",
              "version_minor": 0,
              "version_major": 2
            },
            "text/plain": [
              "HBox(children=(FloatProgress(value=0.0, max=26421880.0), HTML(value='')))"
            ]
          },
          "metadata": {
            "tags": []
          }
        },
        {
          "output_type": "stream",
          "text": [
            "\n",
            "Extracting DATA_MNIST/FashionMNIST/raw/train-images-idx3-ubyte.gz to DATA_MNIST/FashionMNIST/raw\n",
            "\n",
            "Downloading http://fashion-mnist.s3-website.eu-central-1.amazonaws.com/train-labels-idx1-ubyte.gz\n",
            "Downloading http://fashion-mnist.s3-website.eu-central-1.amazonaws.com/train-labels-idx1-ubyte.gz to DATA_MNIST/FashionMNIST/raw/train-labels-idx1-ubyte.gz\n"
          ],
          "name": "stdout"
        },
        {
          "output_type": "display_data",
          "data": {
            "application/vnd.jupyter.widget-view+json": {
              "model_id": "e8be4721d5df4e8eb8dd39a3a909ad20",
              "version_minor": 0,
              "version_major": 2
            },
            "text/plain": [
              "HBox(children=(FloatProgress(value=0.0, max=29515.0), HTML(value='')))"
            ]
          },
          "metadata": {
            "tags": []
          }
        },
        {
          "output_type": "stream",
          "text": [
            "\n",
            "Extracting DATA_MNIST/FashionMNIST/raw/train-labels-idx1-ubyte.gz to DATA_MNIST/FashionMNIST/raw\n",
            "\n",
            "Downloading http://fashion-mnist.s3-website.eu-central-1.amazonaws.com/t10k-images-idx3-ubyte.gz\n",
            "Downloading http://fashion-mnist.s3-website.eu-central-1.amazonaws.com/t10k-images-idx3-ubyte.gz to DATA_MNIST/FashionMNIST/raw/t10k-images-idx3-ubyte.gz\n"
          ],
          "name": "stdout"
        },
        {
          "output_type": "display_data",
          "data": {
            "application/vnd.jupyter.widget-view+json": {
              "model_id": "874fd9eba2ad408ab47c7590e3ab15dc",
              "version_minor": 0,
              "version_major": 2
            },
            "text/plain": [
              "HBox(children=(FloatProgress(value=0.0, max=4422102.0), HTML(value='')))"
            ]
          },
          "metadata": {
            "tags": []
          }
        },
        {
          "output_type": "stream",
          "text": [
            "\n",
            "Extracting DATA_MNIST/FashionMNIST/raw/t10k-images-idx3-ubyte.gz to DATA_MNIST/FashionMNIST/raw\n",
            "\n",
            "Downloading http://fashion-mnist.s3-website.eu-central-1.amazonaws.com/t10k-labels-idx1-ubyte.gz\n",
            "Downloading http://fashion-mnist.s3-website.eu-central-1.amazonaws.com/t10k-labels-idx1-ubyte.gz to DATA_MNIST/FashionMNIST/raw/t10k-labels-idx1-ubyte.gz\n"
          ],
          "name": "stdout"
        },
        {
          "output_type": "display_data",
          "data": {
            "application/vnd.jupyter.widget-view+json": {
              "model_id": "98f23e2981e040b888a6c0dde0cce9c8",
              "version_minor": 0,
              "version_major": 2
            },
            "text/plain": [
              "HBox(children=(FloatProgress(value=0.0, max=5148.0), HTML(value='')))"
            ]
          },
          "metadata": {
            "tags": []
          }
        },
        {
          "output_type": "stream",
          "text": [
            "\n",
            "Extracting DATA_MNIST/FashionMNIST/raw/t10k-labels-idx1-ubyte.gz to DATA_MNIST/FashionMNIST/raw\n",
            "\n",
            "Processing...\n",
            "Done!\n"
          ],
          "name": "stdout"
        },
        {
          "output_type": "stream",
          "text": [
            "/usr/local/lib/python3.7/dist-packages/torchvision/datasets/mnist.py:502: UserWarning: The given NumPy array is not writeable, and PyTorch does not support non-writeable tensors. This means you can write to the underlying (supposedly non-writeable) NumPy array using the tensor. You may want to copy the array to protect its data or make it writeable before converting it to a tensor. This type of warning will be suppressed for the rest of this program. (Triggered internally at  /pytorch/torch/csrc/utils/tensor_numpy.cpp:143.)\n",
            "  return torch.from_numpy(parsed.astype(m[2], copy=False)).view(*s)\n"
          ],
          "name": "stderr"
        }
      ]
    },
    {
      "cell_type": "markdown",
      "metadata": {
        "id": "ozQbbUkHcsZu"
      },
      "source": [
        "Extract one batch from the training set, and if we check out the shape, we see that we have 64 images that are of shape (1x32x32) and also 64 labels."
      ]
    },
    {
      "cell_type": "code",
      "metadata": {
        "colab": {
          "base_uri": "https://localhost:8080/"
        },
        "id": "yjn7iXwcU-Ah",
        "outputId": "9b2996ae-fb0c-4b5e-f7d1-566eaa569fdf"
      },
      "source": [
        "training_data = enumerate(trainloader)\n",
        "batch_idx, (images, labels) = next(training_data)\n",
        "print(images.shape) # Size of the image\n",
        "print(labels.shape) # Size of the labels"
      ],
      "execution_count": null,
      "outputs": [
        {
          "output_type": "stream",
          "text": [
            "torch.Size([64, 1, 32, 32])\n",
            "torch.Size([64])\n"
          ],
          "name": "stdout"
        }
      ]
    },
    {
      "cell_type": "markdown",
      "metadata": {
        "id": "KWe7jlzUc_Ol"
      },
      "source": [
        "Now, the interesting stuff. Building the LeNet5 model. We start by defining a class `LeNet5` and we define a `__init__` function. \n",
        "\n",
        "The easiest and most elegant way to create this model is by splitting the convolutional and linear layers. We can do this by creating two sequential models, one will be called `self.convolutional_layer` and the second `self.linear_layer`. For the convolutional layer we will create 3 convolutional layers and 2 average pooling layers, with 3 activation functions.\n",
        "\n",
        "For the `linear_layer` we will define two linear layers and the activation function after the first will be a `tanh` function. For the softmax function we will apply it in the forward function directly.\n",
        "\n",
        "In the forward function, we first call the `self.convolutional_layer` on the image, than we flatten the result and pass it into the `self.linear_layer`, and on the result from the linear layer we apply the softmax."
      ]
    },
    {
      "cell_type": "code",
      "metadata": {
        "id": "nGdzwDT0Nm6c"
      },
      "source": [
        "class LeNet5(nn.Module):\n",
        "\n",
        "    def __init__(self):\n",
        "        super(LeNet5, self).__init__()\n",
        "        \n",
        "        self.convolutional_layer = nn.Sequential(            \n",
        "            nn.Conv2d(in_channels=1, out_channels=6, kernel_size=5, stride=1),\n",
        "            nn.Tanh(),\n",
        "            nn.AvgPool2d(kernel_size=2, stride=2, padding=0),\n",
        "            nn.Conv2d(in_channels=6, out_channels=16, kernel_size=5, stride=1),\n",
        "            nn.Tanh(),\n",
        "            nn.AvgPool2d(kernel_size=2, stride=2, padding=0),\n",
        "            nn.Conv2d(in_channels=16, out_channels=120, kernel_size=5, stride=1),\n",
        "            nn.Tanh()\n",
        "        )\n",
        "\n",
        "        self.linear_layer = nn.Sequential(\n",
        "            nn.Linear(in_features=120, out_features=84),\n",
        "            nn.Tanh(),\n",
        "            nn.Linear(in_features=84, out_features=10),\n",
        "        )\n",
        "\n",
        "\n",
        "    def forward(self, x):\n",
        "        x = self.convolutional_layer(x)\n",
        "        x = torch.flatten(x, 1)\n",
        "        x = self.linear_layer(x)\n",
        "        x = F.softmax(x, dim=1)\n",
        "        return x"
      ],
      "execution_count": null,
      "outputs": []
    },
    {
      "cell_type": "markdown",
      "metadata": {
        "id": "llu1bIwxgo2P"
      },
      "source": [
        "Call the model we just created and set it to work on the device we defined in the beggining"
      ]
    },
    {
      "cell_type": "code",
      "metadata": {
        "colab": {
          "base_uri": "https://localhost:8080/"
        },
        "id": "7VHQxJx9VAmy",
        "outputId": "cf2ea8c0-48b1-42ac-feff-078e5fc27c08"
      },
      "source": [
        "model = LeNet5().to(device)\n",
        "print(model)"
      ],
      "execution_count": null,
      "outputs": [
        {
          "output_type": "stream",
          "text": [
            "LeNet5(\n",
            "  (convolutional_layer): Sequential(\n",
            "    (0): Conv2d(1, 6, kernel_size=(5, 5), stride=(1, 1))\n",
            "    (1): Tanh()\n",
            "    (2): AvgPool2d(kernel_size=2, stride=2, padding=0)\n",
            "    (3): Conv2d(6, 16, kernel_size=(5, 5), stride=(1, 1))\n",
            "    (4): Tanh()\n",
            "    (5): AvgPool2d(kernel_size=2, stride=2, padding=0)\n",
            "    (6): Conv2d(16, 120, kernel_size=(5, 5), stride=(1, 1))\n",
            "    (7): Tanh()\n",
            "  )\n",
            "  (linear_layer): Sequential(\n",
            "    (0): Linear(in_features=120, out_features=84, bias=True)\n",
            "    (1): Tanh()\n",
            "    (2): Linear(in_features=84, out_features=10, bias=True)\n",
            "  )\n",
            ")\n"
          ],
          "name": "stdout"
        }
      ]
    },
    {
      "cell_type": "markdown",
      "metadata": {
        "id": "kr071QKVgtCD"
      },
      "source": [
        "For the optimizer we use `Adam` and for the loss `CrossEntropyLoss`"
      ]
    },
    {
      "cell_type": "code",
      "metadata": {
        "id": "JLVo9ccbVPNg"
      },
      "source": [
        "optimizer = optim.Adam(model.parameters(), lr=0.001)\n",
        "criterion = nn.CrossEntropyLoss()"
      ],
      "execution_count": null,
      "outputs": []
    },
    {
      "cell_type": "markdown",
      "metadata": {
        "id": "mCV8yn66gws0"
      },
      "source": [
        "The training is the same as usual, so i will not get in deep details here. We will train it for 20 iterations. We iterate through all training images and set them to work with the device we specified in the beggining. Zero the gradients, do the forward propagation, calculate the loss and do the backpropagation step. After the training step we will do the evaluation step as usual. We iterate throught all the testing images and use our model for predictions. We add 1 every time our model predicts correctly and we use this for calculating the accuracy. We will print every 5th epoch, the training loss, validation loss and validation accuracy"
      ]
    },
    {
      "cell_type": "code",
      "metadata": {
        "colab": {
          "base_uri": "https://localhost:8080/"
        },
        "id": "7RIR3NswN-qJ",
        "outputId": "ecc37b41-5770-4fdd-a9e8-fcf671d6b151"
      },
      "source": [
        "epochs = 20\n",
        "train_loss, val_loss = [], []\n",
        "\n",
        "for epoch in range(epochs):\n",
        "   \n",
        "    total_train_loss = 0\n",
        "    total_val_loss = 0\n",
        "\n",
        "    model.train()\n",
        "    \n",
        "    # training our model\n",
        "    for idx, (image, label) in enumerate(trainloader):\n",
        "\n",
        "        image, label = image.to(device), label.to(device)\n",
        "        optimizer.zero_grad()\n",
        "        pred = model(image)\n",
        "\n",
        "        loss = criterion(pred, label)\n",
        "        total_train_loss += loss.item()\n",
        "\n",
        "        loss.backward()\n",
        "        optimizer.step()\n",
        "\n",
        "    total_train_loss = total_train_loss / (idx + 1)\n",
        "    train_loss.append(total_train_loss)\n",
        "    \n",
        "    # validating our model\n",
        "    model.eval()\n",
        "    total = 0\n",
        "    for idx, (image, label) in enumerate(testloader):\n",
        "        image, label = image.to(device), label.to(device)\n",
        "        pred = model(image)\n",
        "        loss = criterion(pred, label)\n",
        "        total_val_loss += loss.item()\n",
        "\n",
        "        pred = torch.nn.functional.softmax(pred, dim=1)\n",
        "        for i, p in enumerate(pred):\n",
        "            if label[i] == torch.max(p.data, 0)[1]:\n",
        "                total = total + 1\n",
        "\n",
        "    accuracy = total / test_data_size\n",
        "\n",
        "    total_val_loss = total_val_loss / (idx + 1)\n",
        "    val_loss.append(total_val_loss)\n",
        "\n",
        "    if epoch % 5 == 0:\n",
        "      print('\\nEpoch: {}/{}, Train Loss: {:.4f}, Val Loss: {:.4f}, Val Acc: {:.4f}'.format(epoch, epochs, total_train_loss, total_val_loss, accuracy))"
      ],
      "execution_count": null,
      "outputs": [
        {
          "output_type": "stream",
          "text": [
            "\n",
            "Epoch: 0/20, Train Loss: 1.7352, Val Loss: 1.6842, Val Acc: 0.7768\n",
            "\n",
            "Epoch: 5/20, Train Loss: 1.6002, Val Loss: 1.6159, Val Acc: 0.8457\n",
            "\n",
            "Epoch: 10/20, Train Loss: 1.5793, Val Loss: 1.6019, Val Acc: 0.8601\n",
            "\n",
            "Epoch: 15/20, Train Loss: 1.5663, Val Loss: 1.5867, Val Acc: 0.8745\n"
          ],
          "name": "stdout"
        }
      ]
    },
    {
      "cell_type": "markdown",
      "metadata": {
        "id": "ap66KjTliCQZ"
      },
      "source": [
        "To get a better understanding of how our model did, we will plot the training  and validation loss."
      ]
    },
    {
      "cell_type": "code",
      "metadata": {
        "colab": {
          "base_uri": "https://localhost:8080/",
          "height": 283
        },
        "id": "jxhE7JiciOJx",
        "outputId": "20af65ce-4eed-4d62-e2d4-a34908be16a8"
      },
      "source": [
        "plt.plot(train_loss)\n",
        "plt.plot(val_loss)"
      ],
      "execution_count": null,
      "outputs": [
        {
          "output_type": "execute_result",
          "data": {
            "text/plain": [
              "[<matplotlib.lines.Line2D at 0x7fa7d3851090>]"
            ]
          },
          "metadata": {
            "tags": []
          },
          "execution_count": 9
        },
        {
          "output_type": "display_data",
          "data": {
            "image/png": "[encoded data removed]",
            "text/plain": [
              "<Figure size 432x288 with 1 Axes>"
            ]
          },
          "metadata": {
            "tags": [],
            "needs_background": "light"
          }
        }
      ]
    },
    {
      "cell_type": "markdown",
      "metadata": {
        "id": "FhvXAdr5iVJB"
      },
      "source": [
        "Also, we will extract one batch from the testing set and get the images and labels from that batch."
      ]
    },
    {
      "cell_type": "code",
      "metadata": {
        "id": "a10p7i-LNsPE"
      },
      "source": [
        "testiter = iter(testloader)\n",
        "images, labels = testiter.next()"
      ],
      "execution_count": null,
      "outputs": []
    },
    {
      "cell_type": "markdown",
      "metadata": {
        "id": "cakcnkz4icJh"
      },
      "source": [
        "We then use our model to predict on that batch or those 64 images "
      ]
    },
    {
      "cell_type": "code",
      "metadata": {
        "id": "Inw5hxKHVUnf"
      },
      "source": [
        "with torch.no_grad():\n",
        "  images, labels = images.to(device), labels.to(device)\n",
        "  preds = model(images)"
      ],
      "execution_count": null,
      "outputs": []
    },
    {
      "cell_type": "markdown",
      "metadata": {
        "id": "smtsmdt_iguY"
      },
      "source": [
        "We extract all the images into a list using this one line for loop. We convert the data to numpy. Create a list of classes, that can be found on the internet."
      ]
    },
    {
      "cell_type": "code",
      "metadata": {
        "id": "y1ibmddyZZ2J"
      },
      "source": [
        "images_np = [i.mean(dim=0).cpu().numpy() for i in images]\n",
        "\n",
        "class_names = ['T-shirt/top', 'Trouser', 'Pullover', 'Dress', 'Coat',\n",
        "               'Sandal', 'Shirt', 'Sneaker', 'Bag', 'Ankle boot']"
      ],
      "execution_count": null,
      "outputs": []
    },
    {
      "cell_type": "markdown",
      "metadata": {
        "id": "GKsBVcfki3de"
      },
      "source": [
        "We iterate through 50 images and plot them with their corresponding label. We will color the label in `blue` if our model guessed correct and in `red` if it failed to predict that class."
      ]
    },
    {
      "cell_type": "code",
      "metadata": {
        "colab": {
          "base_uri": "https://localhost:8080/",
          "height": 538
        },
        "id": "SbjcnygbVVv8",
        "outputId": "76f21e3b-2fd4-41a0-9eb8-7892579e3660"
      },
      "source": [
        "fig = plt.figure(figsize=(15, 7))\n",
        "fig.subplots_adjust(left=0, right=1, bottom=0, top=1, hspace=0.05, wspace=0.05)\n",
        "\n",
        "for i in range(50):\n",
        "    ax = fig.add_subplot(5, 10, i + 1, xticks=[], yticks=[])\n",
        "    ax.imshow(images_np[i], cmap=plt.cm.gray_r, interpolation='nearest')\n",
        "\n",
        "    if labels[i] == torch.max(preds[i], 0)[1]:\n",
        "      ax.text(0, 3, class_names[torch.max(preds[i], 0)[1]], color='blue')\n",
        "    else:\n",
        "      ax.text(0, 3, class_names[torch.max(preds[i], 0)[1]], color='red')"
      ],
      "execution_count": null,
      "outputs": [
        {
          "output_type": "display_data",
          "data": {
            "image/png": "[encoded data removed]",
            "text/plain": [
              "<Figure size 1080x504 with 50 Axes>"
            ]
          },
          "metadata": {
            "tags": []
          }
        }
      ]
    },
    {
      "cell_type": "code",
      "metadata": {
        "id": "5JkvFappsUGe"
      },
      "source": [
        ""
      ],
      "execution_count": null,
      "outputs": []
    }
  ]
}